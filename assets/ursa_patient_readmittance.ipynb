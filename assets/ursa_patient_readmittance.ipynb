{
 "cells": [
  {
   "cell_type": "code",
   "execution_count": 13,
   "id": "58e60fec",
   "metadata": {},
   "outputs": [],
   "source": [
    "import pandas as pd\n",
    "import numpy as np\n",
    "import matplotlib.pyplot as plt\n",
    "import matplotlib.dates as mdates\n",
    "import datetime as dt\n",
    "import json\n",
    "import seaborn as sns\n",
    "import re"
   ]
  },
  {
   "cell_type": "code",
   "execution_count": 14,
   "id": "5f2ff918",
   "metadata": {},
   "outputs": [],
   "source": [
    "members = pd.read_csv('../data/NSS_GreatCare_Members.csv', low_memory=False)\n",
    "inpatient = pd.read_csv('../data/NSS_Hospital_Inpatient_Admissions.csv', low_memory=False)\n",
    "pcp_visits = pd.read_csv('../data/NSS_PrimaryCare_Office_Visits.csv', low_memory=False)"
   ]
  },
  {
   "cell_type": "code",
   "execution_count": null,
   "id": "a36ee561",
   "metadata": {},
   "outputs": [],
   "source": [
    "members.info()"
   ]
  },
  {
   "cell_type": "code",
   "execution_count": null,
   "id": "63c34b25",
   "metadata": {},
   "outputs": [],
   "source": [
    "members1 = members[['Patient ID', 'Primary Plan ID']]"
   ]
  },
  {
   "cell_type": "code",
   "execution_count": null,
   "id": "cad4cf91",
   "metadata": {},
   "outputs": [],
   "source": [
    "members1.head()"
   ]
  },
  {
   "cell_type": "code",
   "execution_count": null,
   "id": "c117eb5d",
   "metadata": {},
   "outputs": [],
   "source": []
  },
  {
   "cell_type": "code",
   "execution_count": 15,
   "id": "945e40b6",
   "metadata": {},
   "outputs": [],
   "source": [
    "#running this before creating the new inpatient df.\n",
    "inpatient['Encounter Start Date'] = pd.to_datetime(inpatient['Encounter Start Date'], format='%Y-%m-%d')\n",
    "inpatient['Encounter End Date'] = pd.to_datetime(inpatient['Encounter End Date'], format='%Y-%m-%d')"
   ]
  },
  {
   "cell_type": "code",
   "execution_count": 33,
   "id": "42940b83",
   "metadata": {},
   "outputs": [],
   "source": [
    "# Alternate, more efficient version of converting the dates\n",
    "inpatient[['Encounter Start Date','Encounter End Date']] = inpatient[['Encounter Start Date','Encounter End Date']].apply(pd.to_datetime)"
   ]
  },
  {
   "cell_type": "code",
   "execution_count": 27,
   "id": "97e16930",
   "metadata": {},
   "outputs": [],
   "source": [
    "#Also need to convert this to datetime\n",
    "pcp_visits['Encounter Date'] = pd.to_datetime(pcp_visits['Encounter Date'])"
   ]
  },
  {
   "cell_type": "code",
   "execution_count": null,
   "id": "7eed7c8f",
   "metadata": {},
   "outputs": [],
   "source": [
    "inpatient1=inpatient[['Encounter ID', 'Patient ID', 'Encounter Start Date', 'Encounter End Date']]"
   ]
  },
  {
   "cell_type": "code",
   "execution_count": null,
   "id": "01dc1c61",
   "metadata": {},
   "outputs": [],
   "source": [
    "inpatient1.info()"
   ]
  },
  {
   "cell_type": "code",
   "execution_count": null,
   "id": "252b66ab",
   "metadata": {},
   "outputs": [],
   "source": [
    "pcp_visits.info()"
   ]
  },
  {
   "cell_type": "code",
   "execution_count": null,
   "id": "6fea751a",
   "metadata": {},
   "outputs": [],
   "source": []
  },
  {
   "cell_type": "code",
   "execution_count": null,
   "id": "729e394f",
   "metadata": {},
   "outputs": [],
   "source": [
    "pcp_visits1.head()"
   ]
  },
  {
   "cell_type": "code",
   "execution_count": null,
   "id": "7969652b",
   "metadata": {},
   "outputs": [],
   "source": [
    "#to show all the rows:\n",
    "#pd.set_option('display.max_columns', None)"
   ]
  },
  {
   "cell_type": "markdown",
   "id": "eeb19091",
   "metadata": {},
   "source": [
    "# Question 1\n",
    "### What is our 30-day all cause readmission rate across hospitals our members are admitted to?"
   ]
  },
  {
   "cell_type": "code",
   "execution_count": null,
   "id": "edcae58d",
   "metadata": {},
   "outputs": [],
   "source": [
    "#Process:\n",
    "#if there is a second admission date, subtract the previous visit's end date .\n",
    "#Find where the time is < 30 days"
   ]
  },
  {
   "cell_type": "code",
   "execution_count": null,
   "id": "46793b27",
   "metadata": {},
   "outputs": [],
   "source": [
    "#first step is to sort the inpatient1 df\n",
    "inpatient1 = inpatient1.sort_values(['Patient ID',\"Encounter Start Date\", \"Encounter End Date\"], ascending = (False, True, True))"
   ]
  },
  {
   "cell_type": "code",
   "execution_count": null,
   "id": "6d0b1d18",
   "metadata": {},
   "outputs": [],
   "source": [
    "#THIS IS GOLD KEEP IT.  Creates columns for us to do math on and then identify rows where th patient has been admitted twice\n",
    "inpatient1['Previous End Date'] = (inpatient1.groupby('Patient ID')['Encounter End Date'].shift(1))\n",
    "inpatient1['Days Since Last Visit'] = inpatient1['Encounter Start Date'] - inpatient1['Previous End Date']\n",
    "inpatient1 = inpatient1[inpatient1['Days Since Last Visit'].notnull()]\n",
    "\n",
    "\n"
   ]
  },
  {
   "cell_type": "code",
   "execution_count": null,
   "id": "424efc09",
   "metadata": {},
   "outputs": [],
   "source": [
    "inpatient1.info()"
   ]
  },
  {
   "cell_type": "code",
   "execution_count": null,
   "id": "e9dde6ad",
   "metadata": {},
   "outputs": [],
   "source": [
    "#Creates new dataframe where time since last visit is less than or equal to 30 days\n",
    "inpatient30d = inpatient1[inpatient1['Days Since Last Visit'] <= '30 days']\n",
    "inpatient30d.info()\n",
    "#755 rows"
   ]
  },
  {
   "cell_type": "code",
   "execution_count": null,
   "id": "e37a3028",
   "metadata": {},
   "outputs": [],
   "source": [
    "#Getting the readmission within 30 days rate:\n",
    "inpatient['Patient ID'].nunique() #4701\n",
    "inpatient30d['Patient ID'].nunique() #479"
   ]
  },
  {
   "cell_type": "code",
   "execution_count": null,
   "id": "644c6c81",
   "metadata": {},
   "outputs": [],
   "source": [
    "rate = inpatient30d['Patient ID'].nunique() / inpatient['Patient ID'].nunique()\n",
    "print(rate) #10.18932%"
   ]
  },
  {
   "cell_type": "code",
   "execution_count": 35,
   "id": "93a5c8f6",
   "metadata": {},
   "outputs": [
    {
     "data": {
      "text/plain": [
       "0.10189321420974261"
      ]
     },
     "execution_count": 35,
     "metadata": {},
     "output_type": "execute_result"
    }
   ],
   "source": [
    "479/4701"
   ]
  },
  {
   "cell_type": "markdown",
   "id": "eb22b649",
   "metadata": {},
   "source": [
    "Question 1 answer is 10.18932%"
   ]
  },
  {
   "cell_type": "markdown",
   "id": "aefaa20f",
   "metadata": {},
   "source": [
    "# Question2:\n",
    "### What percent of patients have a PCP visit within a week of discharge?"
   ]
  },
  {
   "cell_type": "code",
   "execution_count": null,
   "id": "b99543eb",
   "metadata": {},
   "outputs": [],
   "source": [
    "#drop duplicates! on two columns\n",
    "#two_top = two_top.sort_values(['Patient ID'], ascending = (False)).drop_duplicates(['Patient ID','Encounter End Date'])\n",
    "\n",
    "#From Brenda:\n",
    "#make df and merge\n",
    "ad_cut = inpatient[['Patient ID','Encounter End Date']]\n",
    "pcp_cut = pcp_visits[['Patient ID','Encounter Date']]\n",
    "together = ad_cut.merge(pcp_cut, left_on ='Patient ID', right_on = 'Patient ID',how='left', indicator = False)\n",
    "#sort\n",
    "together = together.sort_values(['Patient ID',\"Encounter Date\", \"Encounter End Date\"], ascending = (False, True, True))\n",
    "#change to datetime\n",
    "together['Encounter Date'] = pd.to_datetime(together['Encounter Date'], format='%Y-%m-%d')\n",
    "#sub encounter date from end dates\n",
    "together['Days Since Last Visit'] = together['Encounter Date'] - together['Encounter End Date']\n",
    "two_top = together[together['Days Since Last Visit'] <= '7 days']\n",
    "two_top = two_top[two_top['Days Since Last Visit'] >= '0 days']\n",
    "two_top.rename(columns={\"Encounter End Date\": \"Inpatient End Date\"}, inplace = True)\n",
    "two_top"
   ]
  },
  {
   "cell_type": "markdown",
   "id": "3a25b669",
   "metadata": {},
   "source": [
    "Teng below"
   ]
  },
  {
   "cell_type": "markdown",
   "id": "af960aa2",
   "metadata": {},
   "source": [
    "Process:\n",
    "1. Identify patients who visited PCP within 7 days of hospital discharge\n",
    "2. Identify total number of inpatient visits\n",
    "3. divide answer to #1 by answer to #2"
   ]
  },
  {
   "cell_type": "code",
   "execution_count": 28,
   "id": "6c893d56",
   "metadata": {},
   "outputs": [],
   "source": [
    "#Getting the relevant columns\n",
    "x = inpatient[['Encounter ID','Patient ID', 'Encounter Start Date', 'Encounter End Date']]\n",
    "y = pcp_visits[['Encounter ID','Patient ID', 'Encounter Date']]\n"
   ]
  },
  {
   "cell_type": "code",
   "execution_count": 29,
   "id": "76243833",
   "metadata": {},
   "outputs": [
    {
     "name": "stdout",
     "output_type": "stream",
     "text": [
      "<class 'pandas.core.frame.DataFrame'>\n",
      "Int64Index: 44098 entries, 0 to 44097\n",
      "Data columns (total 6 columns):\n",
      " #   Column                Non-Null Count  Dtype         \n",
      "---  ------                --------------  -----         \n",
      " 0   Encounter ID_x        44098 non-null  object        \n",
      " 1   Patient ID            44098 non-null  object        \n",
      " 2   Encounter Start Date  44098 non-null  datetime64[ns]\n",
      " 3   Encounter End Date    44098 non-null  datetime64[ns]\n",
      " 4   Encounter ID_y        43791 non-null  object        \n",
      " 5   Encounter Date        43791 non-null  datetime64[ns]\n",
      "dtypes: datetime64[ns](3), object(3)\n",
      "memory usage: 2.4+ MB\n"
     ]
    }
   ],
   "source": [
    "#merge! \n",
    "inpatient_pcp= x.merge(y, how = 'left', on = 'Patient ID')\n",
    "inpatient_pcp.info()"
   ]
  },
  {
   "cell_type": "code",
   "execution_count": 18,
   "id": "ade4ba90",
   "metadata": {},
   "outputs": [
    {
     "data": {
      "text/plain": [
       "pandas.core.frame.DataFrame"
      ]
     },
     "execution_count": 18,
     "metadata": {},
     "output_type": "execute_result"
    }
   ],
   "source": [
    "type(inpatient_pcp)"
   ]
  },
  {
   "cell_type": "code",
   "execution_count": 31,
   "id": "291ffc1a",
   "metadata": {},
   "outputs": [],
   "source": [
    "#Time between leaving hospital and visiting PCP as a new column\n",
    "\n",
    "inpatient_pcp['7_Days'] = inpatient_pcp['Encounter Date'] - inpatient_pcp['Encounter End Date']"
   ]
  },
  {
   "cell_type": "code",
   "execution_count": null,
   "id": "14a2b562",
   "metadata": {},
   "outputs": [],
   "source": []
  },
  {
   "cell_type": "code",
   "execution_count": 32,
   "id": "7ff0e0cb",
   "metadata": {},
   "outputs": [],
   "source": [
    "#Who visited their PCP within 7 days\n",
    "\n",
    "# Looping through the time difference column to find any that are within 7days. \n",
    "\n",
    "t = []\n",
    "\n",
    "for i in inpatient_pcp['7_Days']:\n",
    "    if (i <= dt.timedelta(days=7)) and (i >= dt.timedelta(days=0)) :\n",
    "        t.append('yes')\n",
    "    else:\n",
    "        t.append('no')"
   ]
  },
  {
   "cell_type": "code",
   "execution_count": 37,
   "id": "5ca01dbf",
   "metadata": {},
   "outputs": [
    {
     "data": {
      "text/html": [
       "<div>\n",
       "<style scoped>\n",
       "    .dataframe tbody tr th:only-of-type {\n",
       "        vertical-align: middle;\n",
       "    }\n",
       "\n",
       "    .dataframe tbody tr th {\n",
       "        vertical-align: top;\n",
       "    }\n",
       "\n",
       "    .dataframe thead th {\n",
       "        text-align: right;\n",
       "    }\n",
       "</style>\n",
       "<table border=\"1\" class=\"dataframe\">\n",
       "  <thead>\n",
       "    <tr style=\"text-align: right;\">\n",
       "      <th></th>\n",
       "      <th>Encounter ID_x</th>\n",
       "      <th>Patient ID</th>\n",
       "      <th>Encounter Start Date</th>\n",
       "      <th>Encounter End Date</th>\n",
       "      <th>Encounter ID_y</th>\n",
       "      <th>Encounter Date</th>\n",
       "      <th>7_Days</th>\n",
       "      <th>within_7</th>\n",
       "    </tr>\n",
       "  </thead>\n",
       "  <tbody>\n",
       "    <tr>\n",
       "      <th>0</th>\n",
       "      <td>HIA|DS1|10033|DS1|NPI|1306890389|1</td>\n",
       "      <td>DS1|10033</td>\n",
       "      <td>2013-01-12</td>\n",
       "      <td>2013-01-14</td>\n",
       "      <td>COV|PBSL|DS1|10033|P|1228384|1043427248|1|SHIFTED</td>\n",
       "      <td>2015-12-08</td>\n",
       "      <td>1058 days</td>\n",
       "      <td>no</td>\n",
       "    </tr>\n",
       "    <tr>\n",
       "      <th>1</th>\n",
       "      <td>HIA|DS1|10033|DS1|NPI|1306890389|1</td>\n",
       "      <td>DS1|10033</td>\n",
       "      <td>2013-01-12</td>\n",
       "      <td>2013-01-14</td>\n",
       "      <td>COV|PBSL|DS1|10033|P|1326684|1043427248|1|SHIFTED</td>\n",
       "      <td>2012-06-18</td>\n",
       "      <td>-210 days</td>\n",
       "      <td>no</td>\n",
       "    </tr>\n",
       "    <tr>\n",
       "      <th>2</th>\n",
       "      <td>HIA|DS1|10033|DS1|NPI|1306890389|1</td>\n",
       "      <td>DS1|10033</td>\n",
       "      <td>2013-01-12</td>\n",
       "      <td>2013-01-14</td>\n",
       "      <td>COV|PBSL|DS1|10033|P|155317|1043427248|1|SHIFTED</td>\n",
       "      <td>2014-06-10</td>\n",
       "      <td>512 days</td>\n",
       "      <td>no</td>\n",
       "    </tr>\n",
       "    <tr>\n",
       "      <th>3</th>\n",
       "      <td>HIA|DS1|10033|DS1|NPI|1306890389|1</td>\n",
       "      <td>DS1|10033</td>\n",
       "      <td>2013-01-12</td>\n",
       "      <td>2013-01-14</td>\n",
       "      <td>COV|PBSL|DS1|10033|P|439093|1043427248|1|SHIFTED</td>\n",
       "      <td>2014-09-28</td>\n",
       "      <td>622 days</td>\n",
       "      <td>no</td>\n",
       "    </tr>\n",
       "    <tr>\n",
       "      <th>4</th>\n",
       "      <td>HIA|DS1|10033|DS1|NPI|1306890389|1</td>\n",
       "      <td>DS1|10033</td>\n",
       "      <td>2013-01-12</td>\n",
       "      <td>2013-01-14</td>\n",
       "      <td>COV|PBSL|DS1|10033|P|711310|1043427248|1|SHIFTED</td>\n",
       "      <td>2014-03-16</td>\n",
       "      <td>426 days</td>\n",
       "      <td>no</td>\n",
       "    </tr>\n",
       "    <tr>\n",
       "      <th>...</th>\n",
       "      <td>...</td>\n",
       "      <td>...</td>\n",
       "      <td>...</td>\n",
       "      <td>...</td>\n",
       "      <td>...</td>\n",
       "      <td>...</td>\n",
       "      <td>...</td>\n",
       "      <td>...</td>\n",
       "    </tr>\n",
       "    <tr>\n",
       "      <th>44093</th>\n",
       "      <td>HIA|DS1|9994|DS1|NPI|1689608150|2</td>\n",
       "      <td>DS1|9994</td>\n",
       "      <td>2015-11-24</td>\n",
       "      <td>2015-11-27</td>\n",
       "      <td>COV|PCSL|DS1|9994|P|1238517|1407058787|2</td>\n",
       "      <td>2015-12-05</td>\n",
       "      <td>8 days</td>\n",
       "      <td>no</td>\n",
       "    </tr>\n",
       "    <tr>\n",
       "      <th>44094</th>\n",
       "      <td>HIA|DS1|9994|DS1|NPI|1689608150|2</td>\n",
       "      <td>DS1|9994</td>\n",
       "      <td>2015-11-24</td>\n",
       "      <td>2015-11-27</td>\n",
       "      <td>COV|PCSL|DS1|9994|P|302749|1407058787|2</td>\n",
       "      <td>2015-12-13</td>\n",
       "      <td>16 days</td>\n",
       "      <td>no</td>\n",
       "    </tr>\n",
       "    <tr>\n",
       "      <th>44095</th>\n",
       "      <td>HIA|DS1|9994|DS1|NPI|1689608150|2</td>\n",
       "      <td>DS1|9994</td>\n",
       "      <td>2015-11-24</td>\n",
       "      <td>2015-11-27</td>\n",
       "      <td>COV|PCSL|DS1|9994|P|781849|1205884392|1</td>\n",
       "      <td>2014-05-18</td>\n",
       "      <td>-558 days</td>\n",
       "      <td>no</td>\n",
       "    </tr>\n",
       "    <tr>\n",
       "      <th>44096</th>\n",
       "      <td>HIA|DS1|9994|DS1|NPI|1689608150|2</td>\n",
       "      <td>DS1|9994</td>\n",
       "      <td>2015-11-24</td>\n",
       "      <td>2015-11-27</td>\n",
       "      <td>COV|PCSL|DS1|9994|P|93182|1043427248|1</td>\n",
       "      <td>2013-07-20</td>\n",
       "      <td>-860 days</td>\n",
       "      <td>no</td>\n",
       "    </tr>\n",
       "    <tr>\n",
       "      <th>44097</th>\n",
       "      <td>HIA|DS1|9996|DS1|NPI|1033298617|1</td>\n",
       "      <td>DS1|9996</td>\n",
       "      <td>2010-03-28</td>\n",
       "      <td>2010-03-31</td>\n",
       "      <td>NaN</td>\n",
       "      <td>NaT</td>\n",
       "      <td>NaT</td>\n",
       "      <td>no</td>\n",
       "    </tr>\n",
       "  </tbody>\n",
       "</table>\n",
       "<p>44098 rows × 8 columns</p>\n",
       "</div>"
      ],
      "text/plain": [
       "                           Encounter ID_x Patient ID Encounter Start Date  \\\n",
       "0      HIA|DS1|10033|DS1|NPI|1306890389|1  DS1|10033           2013-01-12   \n",
       "1      HIA|DS1|10033|DS1|NPI|1306890389|1  DS1|10033           2013-01-12   \n",
       "2      HIA|DS1|10033|DS1|NPI|1306890389|1  DS1|10033           2013-01-12   \n",
       "3      HIA|DS1|10033|DS1|NPI|1306890389|1  DS1|10033           2013-01-12   \n",
       "4      HIA|DS1|10033|DS1|NPI|1306890389|1  DS1|10033           2013-01-12   \n",
       "...                                   ...        ...                  ...   \n",
       "44093   HIA|DS1|9994|DS1|NPI|1689608150|2   DS1|9994           2015-11-24   \n",
       "44094   HIA|DS1|9994|DS1|NPI|1689608150|2   DS1|9994           2015-11-24   \n",
       "44095   HIA|DS1|9994|DS1|NPI|1689608150|2   DS1|9994           2015-11-24   \n",
       "44096   HIA|DS1|9994|DS1|NPI|1689608150|2   DS1|9994           2015-11-24   \n",
       "44097   HIA|DS1|9996|DS1|NPI|1033298617|1   DS1|9996           2010-03-28   \n",
       "\n",
       "      Encounter End Date                                     Encounter ID_y  \\\n",
       "0             2013-01-14  COV|PBSL|DS1|10033|P|1228384|1043427248|1|SHIFTED   \n",
       "1             2013-01-14  COV|PBSL|DS1|10033|P|1326684|1043427248|1|SHIFTED   \n",
       "2             2013-01-14   COV|PBSL|DS1|10033|P|155317|1043427248|1|SHIFTED   \n",
       "3             2013-01-14   COV|PBSL|DS1|10033|P|439093|1043427248|1|SHIFTED   \n",
       "4             2013-01-14   COV|PBSL|DS1|10033|P|711310|1043427248|1|SHIFTED   \n",
       "...                  ...                                                ...   \n",
       "44093         2015-11-27           COV|PCSL|DS1|9994|P|1238517|1407058787|2   \n",
       "44094         2015-11-27            COV|PCSL|DS1|9994|P|302749|1407058787|2   \n",
       "44095         2015-11-27            COV|PCSL|DS1|9994|P|781849|1205884392|1   \n",
       "44096         2015-11-27             COV|PCSL|DS1|9994|P|93182|1043427248|1   \n",
       "44097         2010-03-31                                                NaN   \n",
       "\n",
       "      Encounter Date    7_Days within_7  \n",
       "0         2015-12-08 1058 days       no  \n",
       "1         2012-06-18 -210 days       no  \n",
       "2         2014-06-10  512 days       no  \n",
       "3         2014-09-28  622 days       no  \n",
       "4         2014-03-16  426 days       no  \n",
       "...              ...       ...      ...  \n",
       "44093     2015-12-05    8 days       no  \n",
       "44094     2015-12-13   16 days       no  \n",
       "44095     2014-05-18 -558 days       no  \n",
       "44096     2013-07-20 -860 days       no  \n",
       "44097            NaT       NaT       no  \n",
       "\n",
       "[44098 rows x 8 columns]"
      ]
     },
     "execution_count": 37,
     "metadata": {},
     "output_type": "execute_result"
    }
   ],
   "source": [
    "# Adding the list 't' as a new column \n",
    "\n",
    "inpatient_pcp['within_7'] = t\n",
    "\n",
    "inpatient_pcp"
   ]
  },
  {
   "cell_type": "code",
   "execution_count": 38,
   "id": "e4936850",
   "metadata": {},
   "outputs": [
    {
     "data": {
      "text/plain": [
       "no     41723\n",
       "yes     2375\n",
       "Name: within_7, dtype: int64"
      ]
     },
     "execution_count": 38,
     "metadata": {},
     "output_type": "execute_result"
    }
   ],
   "source": [
    "#Get the counts of within_7 column\n",
    "inpatient_pcp['within_7'].value_counts()"
   ]
  },
  {
   "cell_type": "markdown",
   "id": "11f5f5ba",
   "metadata": {},
   "source": [
    "### Dealing with duplicates (patients who saw their PCP more than once within the 7 days after discharge)"
   ]
  },
  {
   "cell_type": "code",
   "execution_count": 40,
   "id": "b7494ce2",
   "metadata": {},
   "outputs": [
    {
     "data": {
      "text/plain": [
       "pandas.core.frame.DataFrame"
      ]
     },
     "execution_count": 40,
     "metadata": {},
     "output_type": "execute_result"
    }
   ],
   "source": [
    "#focus on the 'yes' from the 'within_7' column\n",
    "yes = inpatient_pcp.loc[inpatient_pcp['within_7'] == 'yes']\n",
    "type(yes)"
   ]
  },
  {
   "cell_type": "code",
   "execution_count": 42,
   "id": "5e0eef08",
   "metadata": {},
   "outputs": [
    {
     "data": {
      "text/html": [
       "<div>\n",
       "<style scoped>\n",
       "    .dataframe tbody tr th:only-of-type {\n",
       "        vertical-align: middle;\n",
       "    }\n",
       "\n",
       "    .dataframe tbody tr th {\n",
       "        vertical-align: top;\n",
       "    }\n",
       "\n",
       "    .dataframe thead th {\n",
       "        text-align: right;\n",
       "    }\n",
       "</style>\n",
       "<table border=\"1\" class=\"dataframe\">\n",
       "  <thead>\n",
       "    <tr style=\"text-align: right;\">\n",
       "      <th></th>\n",
       "      <th>Encounter ID_x</th>\n",
       "      <th>Patient ID</th>\n",
       "      <th>Encounter Start Date</th>\n",
       "      <th>Encounter End Date</th>\n",
       "      <th>Encounter ID_y</th>\n",
       "      <th>Encounter Date</th>\n",
       "      <th>7_Days</th>\n",
       "      <th>within_7</th>\n",
       "    </tr>\n",
       "  </thead>\n",
       "  <tbody>\n",
       "    <tr>\n",
       "      <th>17</th>\n",
       "      <td>HIA|DS1|10043|DS1|NPI|1902803315|1</td>\n",
       "      <td>DS1|10043</td>\n",
       "      <td>2014-01-05</td>\n",
       "      <td>2014-01-12</td>\n",
       "      <td>COV|PBSL|DS1|10043|P|538933|1043427248|1|SHIFTED</td>\n",
       "      <td>2014-01-12</td>\n",
       "      <td>0 days</td>\n",
       "      <td>yes</td>\n",
       "    </tr>\n",
       "    <tr>\n",
       "      <th>28</th>\n",
       "      <td>HIA|DS1|10073|DS1|NPI|1902803315|1</td>\n",
       "      <td>DS1|10073</td>\n",
       "      <td>2012-06-13</td>\n",
       "      <td>2012-06-21</td>\n",
       "      <td>COV|PBSL|DS1|10073|P|301709|1043427248|1|SHIFTED</td>\n",
       "      <td>2012-06-27</td>\n",
       "      <td>6 days</td>\n",
       "      <td>yes</td>\n",
       "    </tr>\n",
       "    <tr>\n",
       "      <th>50</th>\n",
       "      <td>HIA|DS1|10101|DS1|NPI|1427055839|1</td>\n",
       "      <td>DS1|10101</td>\n",
       "      <td>2012-12-06</td>\n",
       "      <td>2012-12-09</td>\n",
       "      <td>COV|PCSL|DS1|10101|P|1189971|1043427248|1</td>\n",
       "      <td>2012-12-12</td>\n",
       "      <td>3 days</td>\n",
       "      <td>yes</td>\n",
       "    </tr>\n",
       "    <tr>\n",
       "      <th>231</th>\n",
       "      <td>HIA|DS1|10303|DS1|NPI|1710918545|1</td>\n",
       "      <td>DS1|10303</td>\n",
       "      <td>2012-06-21</td>\n",
       "      <td>2012-06-24</td>\n",
       "      <td>COV|PBSL|DS1|10303|P|10896|1912987553|1</td>\n",
       "      <td>2012-06-30</td>\n",
       "      <td>6 days</td>\n",
       "      <td>yes</td>\n",
       "    </tr>\n",
       "    <tr>\n",
       "      <th>247</th>\n",
       "      <td>HIA|DS1|10305|DS1|NPI|1184722779|1</td>\n",
       "      <td>DS1|10305</td>\n",
       "      <td>2014-05-10</td>\n",
       "      <td>2014-05-12</td>\n",
       "      <td>COV|PBSL|DS1|10305|P|823298|1184722779|1</td>\n",
       "      <td>2014-05-13</td>\n",
       "      <td>1 days</td>\n",
       "      <td>yes</td>\n",
       "    </tr>\n",
       "    <tr>\n",
       "      <th>...</th>\n",
       "      <td>...</td>\n",
       "      <td>...</td>\n",
       "      <td>...</td>\n",
       "      <td>...</td>\n",
       "      <td>...</td>\n",
       "      <td>...</td>\n",
       "      <td>...</td>\n",
       "      <td>...</td>\n",
       "    </tr>\n",
       "    <tr>\n",
       "      <th>44039</th>\n",
       "      <td>HIA|DS1|9943|DS1|NPI|1184722779|3</td>\n",
       "      <td>DS1|9943</td>\n",
       "      <td>2014-10-28</td>\n",
       "      <td>2014-10-30</td>\n",
       "      <td>COV|PCSL|DS1|9943|P|1315984|1184722779|1</td>\n",
       "      <td>2014-11-03</td>\n",
       "      <td>4 days</td>\n",
       "      <td>yes</td>\n",
       "    </tr>\n",
       "    <tr>\n",
       "      <th>44051</th>\n",
       "      <td>HIA|DS1|9945|DS1|NPI|1902803315|1</td>\n",
       "      <td>DS1|9945</td>\n",
       "      <td>2013-02-09</td>\n",
       "      <td>2013-02-11</td>\n",
       "      <td>COV|PCSL|DS1|9945|P|840374|1043427248|1</td>\n",
       "      <td>2013-02-14</td>\n",
       "      <td>3 days</td>\n",
       "      <td>yes</td>\n",
       "    </tr>\n",
       "    <tr>\n",
       "      <th>44067</th>\n",
       "      <td>HIA|DS1|9978|DS1|NPI|1427055839|1</td>\n",
       "      <td>DS1|9978</td>\n",
       "      <td>2015-09-01</td>\n",
       "      <td>2015-09-05</td>\n",
       "      <td>COV|PCSL|DS1|9978|P|696226|1043427248|1</td>\n",
       "      <td>2015-09-11</td>\n",
       "      <td>6 days</td>\n",
       "      <td>yes</td>\n",
       "    </tr>\n",
       "    <tr>\n",
       "      <th>44071</th>\n",
       "      <td>HIA|DS1|9979|DS1|NPI|1689772592|1</td>\n",
       "      <td>DS1|9979</td>\n",
       "      <td>2015-02-06</td>\n",
       "      <td>2015-02-11</td>\n",
       "      <td>COV|PCSL|DS1|9979|P|281365|1477666352|1</td>\n",
       "      <td>2015-02-15</td>\n",
       "      <td>4 days</td>\n",
       "      <td>yes</td>\n",
       "    </tr>\n",
       "    <tr>\n",
       "      <th>44074</th>\n",
       "      <td>HIA|DS1|9981|DS1|NPI|1427055839|1</td>\n",
       "      <td>DS1|9981</td>\n",
       "      <td>2014-08-07</td>\n",
       "      <td>2014-08-10</td>\n",
       "      <td>COV|PCSL|DS1|9981|P|1094367|1043427248|1</td>\n",
       "      <td>2014-08-11</td>\n",
       "      <td>1 days</td>\n",
       "      <td>yes</td>\n",
       "    </tr>\n",
       "  </tbody>\n",
       "</table>\n",
       "<p>1864 rows × 8 columns</p>\n",
       "</div>"
      ],
      "text/plain": [
       "                           Encounter ID_x Patient ID Encounter Start Date  \\\n",
       "17     HIA|DS1|10043|DS1|NPI|1902803315|1  DS1|10043           2014-01-05   \n",
       "28     HIA|DS1|10073|DS1|NPI|1902803315|1  DS1|10073           2012-06-13   \n",
       "50     HIA|DS1|10101|DS1|NPI|1427055839|1  DS1|10101           2012-12-06   \n",
       "231    HIA|DS1|10303|DS1|NPI|1710918545|1  DS1|10303           2012-06-21   \n",
       "247    HIA|DS1|10305|DS1|NPI|1184722779|1  DS1|10305           2014-05-10   \n",
       "...                                   ...        ...                  ...   \n",
       "44039   HIA|DS1|9943|DS1|NPI|1184722779|3   DS1|9943           2014-10-28   \n",
       "44051   HIA|DS1|9945|DS1|NPI|1902803315|1   DS1|9945           2013-02-09   \n",
       "44067   HIA|DS1|9978|DS1|NPI|1427055839|1   DS1|9978           2015-09-01   \n",
       "44071   HIA|DS1|9979|DS1|NPI|1689772592|1   DS1|9979           2015-02-06   \n",
       "44074   HIA|DS1|9981|DS1|NPI|1427055839|1   DS1|9981           2014-08-07   \n",
       "\n",
       "      Encounter End Date                                    Encounter ID_y  \\\n",
       "17            2014-01-12  COV|PBSL|DS1|10043|P|538933|1043427248|1|SHIFTED   \n",
       "28            2012-06-21  COV|PBSL|DS1|10073|P|301709|1043427248|1|SHIFTED   \n",
       "50            2012-12-09         COV|PCSL|DS1|10101|P|1189971|1043427248|1   \n",
       "231           2012-06-24           COV|PBSL|DS1|10303|P|10896|1912987553|1   \n",
       "247           2014-05-12          COV|PBSL|DS1|10305|P|823298|1184722779|1   \n",
       "...                  ...                                               ...   \n",
       "44039         2014-10-30          COV|PCSL|DS1|9943|P|1315984|1184722779|1   \n",
       "44051         2013-02-11           COV|PCSL|DS1|9945|P|840374|1043427248|1   \n",
       "44067         2015-09-05           COV|PCSL|DS1|9978|P|696226|1043427248|1   \n",
       "44071         2015-02-11           COV|PCSL|DS1|9979|P|281365|1477666352|1   \n",
       "44074         2014-08-10          COV|PCSL|DS1|9981|P|1094367|1043427248|1   \n",
       "\n",
       "      Encounter Date 7_Days within_7  \n",
       "17        2014-01-12 0 days      yes  \n",
       "28        2012-06-27 6 days      yes  \n",
       "50        2012-12-12 3 days      yes  \n",
       "231       2012-06-30 6 days      yes  \n",
       "247       2014-05-13 1 days      yes  \n",
       "...              ...    ...      ...  \n",
       "44039     2014-11-03 4 days      yes  \n",
       "44051     2013-02-14 3 days      yes  \n",
       "44067     2015-09-11 6 days      yes  \n",
       "44071     2015-02-15 4 days      yes  \n",
       "44074     2014-08-11 1 days      yes  \n",
       "\n",
       "[1864 rows x 8 columns]"
      ]
     },
     "execution_count": 42,
     "metadata": {},
     "output_type": "execute_result"
    }
   ],
   "source": [
    "#remove duplicates from the yes ('Encounter ID_x' is from the inpatient visits - just count that and not multiple PCP visits)\n",
    "yes = yes.drop_duplicates(subset='Encounter ID_x', keep='first')\n",
    "yes #1864 rows (visits to PCP within 7 days)"
   ]
  },
  {
   "cell_type": "markdown",
   "id": "b323cce9",
   "metadata": {},
   "source": [
    "1864 patients visited their PCP within 7 days of hospital discharge."
   ]
  },
  {
   "cell_type": "code",
   "execution_count": 43,
   "id": "46c79b8e",
   "metadata": {},
   "outputs": [
    {
     "name": "stdout",
     "output_type": "stream",
     "text": [
      "<class 'pandas.core.frame.DataFrame'>\n",
      "RangeIndex: 6213 entries, 0 to 6212\n",
      "Data columns (total 4 columns):\n",
      " #   Column                Non-Null Count  Dtype         \n",
      "---  ------                --------------  -----         \n",
      " 0   Encounter ID          6213 non-null   object        \n",
      " 1   Patient ID            6213 non-null   object        \n",
      " 2   Encounter Start Date  6213 non-null   datetime64[ns]\n",
      " 3   Encounter End Date    6213 non-null   datetime64[ns]\n",
      "dtypes: datetime64[ns](2), object(2)\n",
      "memory usage: 194.3+ KB\n"
     ]
    }
   ],
   "source": [
    "#how many total inpatient visits were there?\n",
    "x.info()"
   ]
  },
  {
   "cell_type": "code",
   "execution_count": 44,
   "id": "e919d3dc",
   "metadata": {},
   "outputs": [
    {
     "data": {
      "text/plain": [
       "0.30001609528408174"
      ]
     },
     "execution_count": 44,
     "metadata": {},
     "output_type": "execute_result"
    }
   ],
   "source": [
    "#1864 patients / 6213 inpatients\n",
    "1864/6213"
   ]
  },
  {
   "cell_type": "markdown",
   "id": "41441b4f",
   "metadata": {},
   "source": [
    "# Question 3 \n",
    "Do either vary by individual or group PCP's?"
   ]
  }
 ],
 "metadata": {
  "kernelspec": {
   "display_name": "Python 3",
   "language": "python",
   "name": "python3"
  },
  "language_info": {
   "codemirror_mode": {
    "name": "ipython",
    "version": 3
   },
   "file_extension": ".py",
   "mimetype": "text/x-python",
   "name": "python",
   "nbconvert_exporter": "python",
   "pygments_lexer": "ipython3",
   "version": "3.8.8"
  }
 },
 "nbformat": 4,
 "nbformat_minor": 5
}
