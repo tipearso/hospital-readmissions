{
 "cells": [
  {
   "cell_type": "code",
   "execution_count": 1,
   "id": "bbf93bd2",
   "metadata": {},
   "outputs": [],
   "source": [
    "import pandas as pd\n",
    "import matplotlib.pyplot as plot\n",
    "import numpy as np"
   ]
  },
  {
   "cell_type": "code",
   "execution_count": 2,
   "id": "5f2ff918",
   "metadata": {},
   "outputs": [],
   "source": [
    "members = pd.read_csv('../data/NSS_GreatCare_Members.csv', low_memory=False)\n",
    "inpatient = pd.read_csv('../data/NSS_Hospital_Inpatient_Admissions.csv', low_memory=False)\n",
    "pcp_visits = pd.read_csv('../data/NSS_PrimaryCare_Office_Visits.csv', low_memory=False)"
   ]
  },
  {
   "cell_type": "code",
   "execution_count": null,
   "id": "a36ee561",
   "metadata": {},
   "outputs": [],
   "source": [
    "members.info()"
   ]
  },
  {
   "cell_type": "code",
   "execution_count": null,
   "id": "63c34b25",
   "metadata": {},
   "outputs": [],
   "source": [
    "members1 = members[['Patient ID', 'Primary Plan ID']]"
   ]
  },
  {
   "cell_type": "code",
   "execution_count": null,
   "id": "cad4cf91",
   "metadata": {},
   "outputs": [],
   "source": [
    "members1.head()"
   ]
  },
  {
   "cell_type": "code",
   "execution_count": null,
   "id": "9e5db434",
   "metadata": {},
   "outputs": [],
   "source": []
  },
  {
   "cell_type": "code",
   "execution_count": 4,
   "id": "9f318f0e",
   "metadata": {},
   "outputs": [],
   "source": [
    "#running this before creating the new inpatient df\n",
    "inpatient['Encounter Start Date'] = pd.to_datetime(inpatient['Encounter Start Date'], format='%Y-%m-%d')\n",
    "inpatient['Encounter End Date'] = pd.to_datetime(inpatient['Encounter End Date'], format='%Y-%m-%d')"
   ]
  },
  {
   "cell_type": "code",
   "execution_count": 6,
   "id": "ed066d4a",
   "metadata": {},
   "outputs": [],
   "source": [
    "inpatient1=inpatient[['Encounter ID', 'Patient ID', 'Encounter Start Date', 'Encounter End Date']]"
   ]
  },
  {
   "cell_type": "code",
   "execution_count": 7,
   "id": "01dc1c61",
   "metadata": {},
   "outputs": [
    {
     "name": "stdout",
     "output_type": "stream",
     "text": [
      "<class 'pandas.core.frame.DataFrame'>\n",
      "RangeIndex: 6213 entries, 0 to 6212\n",
      "Data columns (total 4 columns):\n",
      " #   Column                Non-Null Count  Dtype         \n",
      "---  ------                --------------  -----         \n",
      " 0   Encounter ID          6213 non-null   object        \n",
      " 1   Patient ID            6213 non-null   object        \n",
      " 2   Encounter Start Date  6213 non-null   datetime64[ns]\n",
      " 3   Encounter End Date    6213 non-null   datetime64[ns]\n",
      "dtypes: datetime64[ns](2), object(2)\n",
      "memory usage: 194.3+ KB\n"
     ]
    }
   ],
   "source": [
    "inpatient1.info()"
   ]
  },
  {
   "cell_type": "code",
   "execution_count": null,
   "id": "252b66ab",
   "metadata": {},
   "outputs": [],
   "source": [
    "pcp_visits.info()"
   ]
  },
  {
   "cell_type": "code",
   "execution_count": null,
   "id": "6fea751a",
   "metadata": {},
   "outputs": [],
   "source": []
  },
  {
   "cell_type": "code",
   "execution_count": null,
   "id": "729e394f",
   "metadata": {},
   "outputs": [],
   "source": [
    "pcp_visits1.head()"
   ]
  },
  {
   "cell_type": "code",
   "execution_count": null,
   "id": "7969652b",
   "metadata": {},
   "outputs": [],
   "source": [
    "#to show all the rows:\n",
    "#pd.set_option('display.max_columns', None)"
   ]
  },
  {
   "cell_type": "markdown",
   "id": "bb75eaa6",
   "metadata": {},
   "source": [
    "# Question 1\n",
    "### What is our 30-day all cause readmission rate across hospitals our members are admitted to?"
   ]
  },
  {
   "cell_type": "code",
   "execution_count": null,
   "id": "6e046fa0",
   "metadata": {},
   "outputs": [],
   "source": [
    "#if there is a second admission date, subtract the previous visit's end date .\n",
    "#Find where the time is < 30 days"
   ]
  },
  {
   "cell_type": "code",
   "execution_count": 8,
   "id": "676b07a5",
   "metadata": {},
   "outputs": [],
   "source": [
    "#first step is to sort the inpatient1 df\n",
    "inpatient1 = inpatient1.sort_values(['Patient ID',\"Encounter Start Date\", \"Encounter End Date\"], ascending = (False, True, True))"
   ]
  },
  {
   "cell_type": "code",
   "execution_count": 9,
   "id": "5eeed4c5",
   "metadata": {},
   "outputs": [],
   "source": [
    "#THIS IS GOLD KEEP IT.  Creates columns for us to do math on and then identify rows where th patient has been admitted twice\n",
    "inpatient1['Previous End Date'] = (inpatient1.groupby('Patient ID')['Encounter End Date'].shift(1))\n",
    "inpatient1['Days Since Last Visit'] = inpatient1['Encounter Start Date'] - inpatient1['Previous End Date']\n",
    "inpatient1 = inpatient1[inpatient1['Days Since Last Visit'].notnull()]\n",
    "\n",
    "\n"
   ]
  },
  {
   "cell_type": "code",
   "execution_count": 10,
   "id": "f8090393",
   "metadata": {},
   "outputs": [
    {
     "name": "stdout",
     "output_type": "stream",
     "text": [
      "<class 'pandas.core.frame.DataFrame'>\n",
      "Int64Index: 1512 entries, 6211 to 7\n",
      "Data columns (total 6 columns):\n",
      " #   Column                 Non-Null Count  Dtype          \n",
      "---  ------                 --------------  -----          \n",
      " 0   Encounter ID           1512 non-null   object         \n",
      " 1   Patient ID             1512 non-null   object         \n",
      " 2   Encounter Start Date   1512 non-null   datetime64[ns] \n",
      " 3   Encounter End Date     1512 non-null   datetime64[ns] \n",
      " 4   Previous End Date      1512 non-null   datetime64[ns] \n",
      " 5   Days Since Last Visit  1512 non-null   timedelta64[ns]\n",
      "dtypes: datetime64[ns](3), object(2), timedelta64[ns](1)\n",
      "memory usage: 82.7+ KB\n"
     ]
    }
   ],
   "source": [
    "inpatient1.info()"
   ]
  },
  {
   "cell_type": "code",
   "execution_count": 15,
   "id": "e4f55c16",
   "metadata": {},
   "outputs": [
    {
     "name": "stdout",
     "output_type": "stream",
     "text": [
      "<class 'pandas.core.frame.DataFrame'>\n",
      "Int64Index: 755 entries, 6211 to 44\n",
      "Data columns (total 6 columns):\n",
      " #   Column                 Non-Null Count  Dtype          \n",
      "---  ------                 --------------  -----          \n",
      " 0   Encounter ID           755 non-null    object         \n",
      " 1   Patient ID             755 non-null    object         \n",
      " 2   Encounter Start Date   755 non-null    datetime64[ns] \n",
      " 3   Encounter End Date     755 non-null    datetime64[ns] \n",
      " 4   Previous End Date      755 non-null    datetime64[ns] \n",
      " 5   Days Since Last Visit  755 non-null    timedelta64[ns]\n",
      "dtypes: datetime64[ns](3), object(2), timedelta64[ns](1)\n",
      "memory usage: 41.3+ KB\n"
     ]
    }
   ],
   "source": [
    "#Creates new dataframe where time since last visit is less than 30 days\n",
    "inpatient30d = inpatient1[inpatient1['Days Since Last Visit'] <= '30 days']\n",
    "inpatient30d.info()\n",
    "#755 rows"
   ]
  },
  {
   "cell_type": "code",
   "execution_count": 19,
   "id": "75d27c32",
   "metadata": {},
   "outputs": [
    {
     "data": {
      "text/plain": [
       "479"
      ]
     },
     "execution_count": 19,
     "metadata": {},
     "output_type": "execute_result"
    }
   ],
   "source": [
    "#Getting the readmission within 30 days rate:\n",
    "inpatient['Patient ID'].nunique() #4701\n",
    "inpatient30d['Patient ID'].nunique() #479"
   ]
  },
  {
   "cell_type": "code",
   "execution_count": 21,
   "id": "6bfbcf26",
   "metadata": {},
   "outputs": [
    {
     "name": "stdout",
     "output_type": "stream",
     "text": [
      "0.10189321420974261\n"
     ]
    }
   ],
   "source": [
    "rate = inpatient30d['Patient ID'].nunique() / inpatient['Patient ID'].nunique()\n",
    "print(rate) #10.18932%"
   ]
  },
  {
   "cell_type": "markdown",
   "id": "aac4a1ac",
   "metadata": {},
   "source": [
    "# Question2:\n",
    "### What percent of patients have a PCP visit within a week of discharge?"
   ]
  },
  {
   "cell_type": "code",
   "execution_count": 31,
   "id": "0c146860",
   "metadata": {},
   "outputs": [
    {
     "data": {
      "text/html": [
       "<div>\n",
       "<style scoped>\n",
       "    .dataframe tbody tr th:only-of-type {\n",
       "        vertical-align: middle;\n",
       "    }\n",
       "\n",
       "    .dataframe tbody tr th {\n",
       "        vertical-align: top;\n",
       "    }\n",
       "\n",
       "    .dataframe thead th {\n",
       "        text-align: right;\n",
       "    }\n",
       "</style>\n",
       "<table border=\"1\" class=\"dataframe\">\n",
       "  <thead>\n",
       "    <tr style=\"text-align: right;\">\n",
       "      <th></th>\n",
       "      <th>Patient ID</th>\n",
       "      <th>Inpatient End Date</th>\n",
       "      <th>Encounter Date</th>\n",
       "      <th>Days Since Last Visit</th>\n",
       "    </tr>\n",
       "  </thead>\n",
       "  <tbody>\n",
       "    <tr>\n",
       "      <th>44074</th>\n",
       "      <td>DS1|9981</td>\n",
       "      <td>2014-08-10</td>\n",
       "      <td>2014-08-11</td>\n",
       "      <td>1 days</td>\n",
       "    </tr>\n",
       "    <tr>\n",
       "      <th>44077</th>\n",
       "      <td>DS1|9981</td>\n",
       "      <td>2014-08-10</td>\n",
       "      <td>2014-08-12</td>\n",
       "      <td>2 days</td>\n",
       "    </tr>\n",
       "    <tr>\n",
       "      <th>44071</th>\n",
       "      <td>DS1|9979</td>\n",
       "      <td>2015-02-11</td>\n",
       "      <td>2015-02-15</td>\n",
       "      <td>4 days</td>\n",
       "    </tr>\n",
       "    <tr>\n",
       "      <th>44067</th>\n",
       "      <td>DS1|9978</td>\n",
       "      <td>2015-09-05</td>\n",
       "      <td>2015-09-11</td>\n",
       "      <td>6 days</td>\n",
       "    </tr>\n",
       "    <tr>\n",
       "      <th>44051</th>\n",
       "      <td>DS1|9945</td>\n",
       "      <td>2013-02-11</td>\n",
       "      <td>2013-02-14</td>\n",
       "      <td>3 days</td>\n",
       "    </tr>\n",
       "    <tr>\n",
       "      <th>...</th>\n",
       "      <td>...</td>\n",
       "      <td>...</td>\n",
       "      <td>...</td>\n",
       "      <td>...</td>\n",
       "    </tr>\n",
       "    <tr>\n",
       "      <th>238</th>\n",
       "      <td>DS1|10303</td>\n",
       "      <td>2012-06-24</td>\n",
       "      <td>2012-06-28</td>\n",
       "      <td>4 days</td>\n",
       "    </tr>\n",
       "    <tr>\n",
       "      <th>231</th>\n",
       "      <td>DS1|10303</td>\n",
       "      <td>2012-06-24</td>\n",
       "      <td>2012-06-30</td>\n",
       "      <td>6 days</td>\n",
       "    </tr>\n",
       "    <tr>\n",
       "      <th>50</th>\n",
       "      <td>DS1|10101</td>\n",
       "      <td>2012-12-09</td>\n",
       "      <td>2012-12-12</td>\n",
       "      <td>3 days</td>\n",
       "    </tr>\n",
       "    <tr>\n",
       "      <th>28</th>\n",
       "      <td>DS1|10073</td>\n",
       "      <td>2012-06-21</td>\n",
       "      <td>2012-06-27</td>\n",
       "      <td>6 days</td>\n",
       "    </tr>\n",
       "    <tr>\n",
       "      <th>17</th>\n",
       "      <td>DS1|10043</td>\n",
       "      <td>2014-01-12</td>\n",
       "      <td>2014-01-12</td>\n",
       "      <td>0 days</td>\n",
       "    </tr>\n",
       "  </tbody>\n",
       "</table>\n",
       "<p>2375 rows × 4 columns</p>\n",
       "</div>"
      ],
      "text/plain": [
       "      Patient ID Inpatient End Date Encounter Date Days Since Last Visit\n",
       "44074   DS1|9981         2014-08-10     2014-08-11                1 days\n",
       "44077   DS1|9981         2014-08-10     2014-08-12                2 days\n",
       "44071   DS1|9979         2015-02-11     2015-02-15                4 days\n",
       "44067   DS1|9978         2015-09-05     2015-09-11                6 days\n",
       "44051   DS1|9945         2013-02-11     2013-02-14                3 days\n",
       "...          ...                ...            ...                   ...\n",
       "238    DS1|10303         2012-06-24     2012-06-28                4 days\n",
       "231    DS1|10303         2012-06-24     2012-06-30                6 days\n",
       "50     DS1|10101         2012-12-09     2012-12-12                3 days\n",
       "28     DS1|10073         2012-06-21     2012-06-27                6 days\n",
       "17     DS1|10043         2014-01-12     2014-01-12                0 days\n",
       "\n",
       "[2375 rows x 4 columns]"
      ]
     },
     "execution_count": 31,
     "metadata": {},
     "output_type": "execute_result"
    }
   ],
   "source": [
    "#From Brenda:\n",
    "#make df and merge\n",
    "ad_cut = inpatient[['Patient ID','Encounter End Date']]\n",
    "pcp_cut = pcp_visits[['Patient ID','Encounter Date']]\n",
    "together = ad_cut.merge(pcp_cut, left_on ='Patient ID', right_on = 'Patient ID',how='left', indicator = False)\n",
    "#sort\n",
    "together = together.sort_values(['Patient ID',\"Encounter Date\", \"Encounter End Date\"], ascending = (False, True, True))\n",
    "#change to datetime\n",
    "together['Encounter Date'] = pd.to_datetime(together['Encounter Date'], format='%Y-%m-%d')\n",
    "#sub encounter date from end dates\n",
    "together['Days Since Last Visit'] = together['Encounter Date'] - together['Encounter End Date']\n",
    "two_top = together[together['Days Since Last Visit'] <= '7 days']\n",
    "two_top = two_top[two_top['Days Since Last Visit'] >= '0 days']\n",
    "two_top.rename(columns={\"Encounter End Date\": \"Inpatient End Date\"}, inplace = True)\n",
    "two_top"
   ]
  },
  {
   "cell_type": "code",
   "execution_count": null,
   "id": "bb74c310",
   "metadata": {},
   "outputs": [],
   "source": []
  }
 ],
 "metadata": {
  "kernelspec": {
   "display_name": "Python 3",
   "language": "python",
   "name": "python3"
  },
  "language_info": {
   "codemirror_mode": {
    "name": "ipython",
    "version": 3
   },
   "file_extension": ".py",
   "mimetype": "text/x-python",
   "name": "python",
   "nbconvert_exporter": "python",
   "pygments_lexer": "ipython3",
   "version": "3.8.8"
  }
 },
 "nbformat": 4,
 "nbformat_minor": 5
}
