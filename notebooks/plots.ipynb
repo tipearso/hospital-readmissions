{
 "cells": [
  {
   "cell_type": "code",
   "execution_count": 1,
   "id": "227a5ccf",
   "metadata": {},
   "outputs": [],
   "source": [
    "import pandas as pd\n",
    "import matplotlib.pyplot as plt\n",
    "import seaborn as sns\n",
    "import numpy as np\n",
    "import datetime as dt\n",
    "import re\n",
    "\n",
    "%matplotlib inline  \n",
    "pd.set_option('display.max_columns', None)"
   ]
  },
  {
   "cell_type": "code",
   "execution_count": 2,
   "id": "4746f51f",
   "metadata": {},
   "outputs": [
    {
     "data": {
      "text/html": [
       "<div>\n",
       "<style scoped>\n",
       "    .dataframe tbody tr th:only-of-type {\n",
       "        vertical-align: middle;\n",
       "    }\n",
       "\n",
       "    .dataframe tbody tr th {\n",
       "        vertical-align: top;\n",
       "    }\n",
       "\n",
       "    .dataframe thead th {\n",
       "        text-align: right;\n",
       "    }\n",
       "</style>\n",
       "<table border=\"1\" class=\"dataframe\">\n",
       "  <thead>\n",
       "    <tr style=\"text-align: right;\">\n",
       "      <th></th>\n",
       "      <th>Encounter ID</th>\n",
       "      <th>Patient ID</th>\n",
       "      <th>Service Provider ID</th>\n",
       "      <th>Attending Provider ID</th>\n",
       "      <th>Provider Group Provider ID</th>\n",
       "      <th>Facility Provider ID</th>\n",
       "      <th>Encounter Primary Payor ID</th>\n",
       "      <th>Encounter Primary Plan ID</th>\n",
       "      <th>Attending Provider NPI</th>\n",
       "      <th>Facility Provider NPI</th>\n",
       "      <th>Service Provider NPI</th>\n",
       "      <th>Provider Group NPI</th>\n",
       "      <th>Encounter Date</th>\n",
       "      <th>Is Qualifying Preventive Primary Care Service</th>\n",
       "      <th>Is Qualifying Primary Care Service Provider</th>\n",
       "      <th>Is Qualifying Primary Care Attending</th>\n",
       "      <th>Is Qualifying Primary Care Provider Group</th>\n",
       "      <th>Qualifying Preventive Primary Care HCPCS Code</th>\n",
       "    </tr>\n",
       "  </thead>\n",
       "  <tbody>\n",
       "    <tr>\n",
       "      <th>0</th>\n",
       "      <td>COV|EE|DS1|10076|20110225|DS1|NPI|1487856779</td>\n",
       "      <td>DS1|10076</td>\n",
       "      <td>DS1|NPI|1487856779</td>\n",
       "      <td>NaN</td>\n",
       "      <td>DS1|NPI|1043427248</td>\n",
       "      <td>NaN</td>\n",
       "      <td>DS1|1</td>\n",
       "      <td>DS1|5047W</td>\n",
       "      <td>NaN</td>\n",
       "      <td>NaN</td>\n",
       "      <td>1.487857e+09</td>\n",
       "      <td>1.043427e+09</td>\n",
       "      <td>2011-02-18</td>\n",
       "      <td>0</td>\n",
       "      <td>1</td>\n",
       "      <td>0</td>\n",
       "      <td>0</td>\n",
       "      <td>NaN</td>\n",
       "    </tr>\n",
       "    <tr>\n",
       "      <th>1</th>\n",
       "      <td>COV|EE|DS1|10088|20140222|DS1|NPI|1528030996</td>\n",
       "      <td>DS1|10088</td>\n",
       "      <td>DS1|NPI|1528030996</td>\n",
       "      <td>DS1|NPI|1528030996</td>\n",
       "      <td>DS1|NPI|1043427248</td>\n",
       "      <td>DS1|NPI|1902803315</td>\n",
       "      <td>DS1|1</td>\n",
       "      <td>DS1|5047W</td>\n",
       "      <td>1.528031e+09</td>\n",
       "      <td>1.902803e+09</td>\n",
       "      <td>1.528031e+09</td>\n",
       "      <td>1.043427e+09</td>\n",
       "      <td>2014-02-22</td>\n",
       "      <td>0</td>\n",
       "      <td>1</td>\n",
       "      <td>1</td>\n",
       "      <td>1</td>\n",
       "      <td>NaN</td>\n",
       "    </tr>\n",
       "    <tr>\n",
       "      <th>2</th>\n",
       "      <td>COV|EE|DS1|10165|20140907|DS1|NPI|1477579365</td>\n",
       "      <td>DS1|10165</td>\n",
       "      <td>DS1|NPI|1477579365</td>\n",
       "      <td>NaN</td>\n",
       "      <td>DS1|NPI|1043427248</td>\n",
       "      <td>NaN</td>\n",
       "      <td>DS1|1</td>\n",
       "      <td>DS1|5047W</td>\n",
       "      <td>NaN</td>\n",
       "      <td>NaN</td>\n",
       "      <td>1.477579e+09</td>\n",
       "      <td>1.043427e+09</td>\n",
       "      <td>2014-08-31</td>\n",
       "      <td>0</td>\n",
       "      <td>1</td>\n",
       "      <td>0</td>\n",
       "      <td>0</td>\n",
       "      <td>NaN</td>\n",
       "    </tr>\n",
       "    <tr>\n",
       "      <th>3</th>\n",
       "      <td>COV|EE|DS1|10240|20130624|DS1|NPI|1821178088</td>\n",
       "      <td>DS1|10240</td>\n",
       "      <td>DS1|NPI|1821178088</td>\n",
       "      <td>DS1|NPI|1821178088</td>\n",
       "      <td>DS1|NPI|1407058787</td>\n",
       "      <td>DS1|NPI|1104842020</td>\n",
       "      <td>DS1|1</td>\n",
       "      <td>DS1|5047W</td>\n",
       "      <td>1.821178e+09</td>\n",
       "      <td>1.104842e+09</td>\n",
       "      <td>1.821178e+09</td>\n",
       "      <td>1.407059e+09</td>\n",
       "      <td>2013-06-17</td>\n",
       "      <td>0</td>\n",
       "      <td>1</td>\n",
       "      <td>1</td>\n",
       "      <td>1</td>\n",
       "      <td>NaN</td>\n",
       "    </tr>\n",
       "    <tr>\n",
       "      <th>4</th>\n",
       "      <td>COV|EE|DS1|10293|20160904|DS1|NPI|1609004191</td>\n",
       "      <td>DS1|10293</td>\n",
       "      <td>DS1|NPI|1609004191</td>\n",
       "      <td>NaN</td>\n",
       "      <td>DS1|NPI|1184722779</td>\n",
       "      <td>NaN</td>\n",
       "      <td>DS1|1</td>\n",
       "      <td>DS1|5047X</td>\n",
       "      <td>NaN</td>\n",
       "      <td>NaN</td>\n",
       "      <td>1.609004e+09</td>\n",
       "      <td>1.184723e+09</td>\n",
       "      <td>2016-09-04</td>\n",
       "      <td>0</td>\n",
       "      <td>1</td>\n",
       "      <td>0</td>\n",
       "      <td>0</td>\n",
       "      <td>NaN</td>\n",
       "    </tr>\n",
       "  </tbody>\n",
       "</table>\n",
       "</div>"
      ],
      "text/plain": [
       "                                   Encounter ID Patient ID  \\\n",
       "0  COV|EE|DS1|10076|20110225|DS1|NPI|1487856779  DS1|10076   \n",
       "1  COV|EE|DS1|10088|20140222|DS1|NPI|1528030996  DS1|10088   \n",
       "2  COV|EE|DS1|10165|20140907|DS1|NPI|1477579365  DS1|10165   \n",
       "3  COV|EE|DS1|10240|20130624|DS1|NPI|1821178088  DS1|10240   \n",
       "4  COV|EE|DS1|10293|20160904|DS1|NPI|1609004191  DS1|10293   \n",
       "\n",
       "  Service Provider ID Attending Provider ID Provider Group Provider ID  \\\n",
       "0  DS1|NPI|1487856779                   NaN         DS1|NPI|1043427248   \n",
       "1  DS1|NPI|1528030996    DS1|NPI|1528030996         DS1|NPI|1043427248   \n",
       "2  DS1|NPI|1477579365                   NaN         DS1|NPI|1043427248   \n",
       "3  DS1|NPI|1821178088    DS1|NPI|1821178088         DS1|NPI|1407058787   \n",
       "4  DS1|NPI|1609004191                   NaN         DS1|NPI|1184722779   \n",
       "\n",
       "  Facility Provider ID Encounter Primary Payor ID Encounter Primary Plan ID  \\\n",
       "0                  NaN                      DS1|1                 DS1|5047W   \n",
       "1   DS1|NPI|1902803315                      DS1|1                 DS1|5047W   \n",
       "2                  NaN                      DS1|1                 DS1|5047W   \n",
       "3   DS1|NPI|1104842020                      DS1|1                 DS1|5047W   \n",
       "4                  NaN                      DS1|1                 DS1|5047X   \n",
       "\n",
       "   Attending Provider NPI  Facility Provider NPI  Service Provider NPI  \\\n",
       "0                     NaN                    NaN          1.487857e+09   \n",
       "1            1.528031e+09           1.902803e+09          1.528031e+09   \n",
       "2                     NaN                    NaN          1.477579e+09   \n",
       "3            1.821178e+09           1.104842e+09          1.821178e+09   \n",
       "4                     NaN                    NaN          1.609004e+09   \n",
       "\n",
       "   Provider Group NPI Encounter Date  \\\n",
       "0        1.043427e+09     2011-02-18   \n",
       "1        1.043427e+09     2014-02-22   \n",
       "2        1.043427e+09     2014-08-31   \n",
       "3        1.407059e+09     2013-06-17   \n",
       "4        1.184723e+09     2016-09-04   \n",
       "\n",
       "   Is Qualifying Preventive Primary Care Service  \\\n",
       "0                                              0   \n",
       "1                                              0   \n",
       "2                                              0   \n",
       "3                                              0   \n",
       "4                                              0   \n",
       "\n",
       "   Is Qualifying Primary Care Service Provider  \\\n",
       "0                                            1   \n",
       "1                                            1   \n",
       "2                                            1   \n",
       "3                                            1   \n",
       "4                                            1   \n",
       "\n",
       "   Is Qualifying Primary Care Attending  \\\n",
       "0                                     0   \n",
       "1                                     1   \n",
       "2                                     0   \n",
       "3                                     1   \n",
       "4                                     0   \n",
       "\n",
       "   Is Qualifying Primary Care Provider Group  \\\n",
       "0                                          0   \n",
       "1                                          1   \n",
       "2                                          0   \n",
       "3                                          1   \n",
       "4                                          0   \n",
       "\n",
       "  Qualifying Preventive Primary Care HCPCS Code  \n",
       "0                                           NaN  \n",
       "1                                           NaN  \n",
       "2                                           NaN  \n",
       "3                                           NaN  \n",
       "4                                           NaN  "
      ]
     },
     "execution_count": 2,
     "metadata": {},
     "output_type": "execute_result"
    }
   ],
   "source": [
    "mem = pd.read_csv('../data/NSS_GreatCare_Members.csv')\n",
    "adm = pd.read_csv('../data/NSS_Hospital_Inpatient_Admissions.csv')\n",
    "pcp = pd.read_csv('../data/NSS_PrimaryCare_Office_Visits.csv', low_memory = False)\n",
    "pcp.head(5)"
   ]
  },
  {
   "cell_type": "markdown",
   "id": "1b7ea72f",
   "metadata": {},
   "source": [
    "two[['First','second','third','fourth','fifth','sixth','Last']] = two['Encounter ID'].apply(\n",
    "   lambda x: pd.Series(str(x).split(\"|\")))\n",
    "two.head()"
   ]
  },
  {
   "cell_type": "code",
   "execution_count": 3,
   "id": "c1b12c4a",
   "metadata": {},
   "outputs": [],
   "source": [
    "#set datetime\n",
    "adm['Encounter Start Date'] = pd.to_datetime(adm['Encounter Start Date'], format='%Y-%m-%d')\n",
    "adm['Encounter End Date'] = pd.to_datetime(adm['Encounter End Date'], format='%Y-%m-%d')\n",
    "pcp['Encounter Date'] = pd.to_datetime(pcp['Encounter Date'], format='%Y-%m-%d')"
   ]
  },
  {
   "cell_type": "markdown",
   "id": "1a08a223",
   "metadata": {},
   "source": [
    "# MVP 1 \n",
    "What is our 30-day all cause readmission rate across hospitals our members are admitted to?"
   ]
  },
  {
   "cell_type": "code",
   "execution_count": 4,
   "id": "98a0898e",
   "metadata": {},
   "outputs": [
    {
     "data": {
      "text/plain": [
       "6213"
      ]
     },
     "execution_count": 4,
     "metadata": {},
     "output_type": "execute_result"
    }
   ],
   "source": [
    "#clean and transform dfs\n",
    "#order by patient then start date\n",
    "one = adm.sort_values(['Patient ID',\"Encounter Start Date\", \"Encounter End Date\"], ascending = (False, True, True))\n",
    "#To calculate the days between admissions:\n",
    "#shift previous end date to next row correct format and calculate\n",
    "one['Previous End Date'] = (one.groupby('Patient ID')['Encounter End Date'].shift(1))\n",
    "one['Previous End Date'] = pd.to_datetime(one['Previous End Date'], format='%Y-%m-%d')\n",
    "one['Days Since Last Visit'] = one['Encounter Start Date'] - one['Previous End Date']\n",
    "\n",
    "#ad_count is the total number of admissions\n",
    "adm_count = len(one)\n",
    "adm_count"
   ]
  },
  {
   "cell_type": "markdown",
   "id": "3a225f1c",
   "metadata": {},
   "source": [
    "#Different Direction<br>\n",
    "#if difference between Encounter End Date and Encounter Start Date \n",
    "one['diff'] = one.groupby('Patient ID')['Encounter Start Date'].diff() / np.timedelta64(1, 'D')\n",
    "one['diff'] = one['diff'].fillna(0)\n",
    "one['diff_end'] = one.groupby('Patient ID')['Encounter End Date'].diff() / np.timedelta64(1, 'D')\n",
    "one['diff_end'] = one['diff_end'].fillna(0)\n",
    "#length of stay - not grouped by\n",
    "one['length'] = one['Encounter End Date']-one['Encounter Start Date'] \n",
    "one['length'] = one['length'].fillna(0)"
   ]
  },
  {
   "cell_type": "code",
   "execution_count": 120,
   "id": "59fe8826",
   "metadata": {},
   "outputs": [
    {
     "data": {
      "text/plain": [
       "703"
      ]
     },
     "execution_count": 120,
     "metadata": {},
     "output_type": "execute_result"
    }
   ],
   "source": [
    "#filter for readmission and within 30 days\n",
    "one_top = one\n",
    "one_top = one_top[one_top['Days Since Last Visit'].notnull()]\n",
    "one_top = one_top[one_top['Days Since Last Visit'] <= '30 days']\n",
    "one_top = one_top[one_top['Days Since Last Visit'] >= '0 days']\n",
    "\n",
    "#read_count is the number of patients who were readmitted within 30 days of their prior adm\n",
    "read_count = len(one_top)\n",
    "read_count"
   ]
  },
  {
   "cell_type": "code",
   "execution_count": 118,
   "id": "b4449dd1",
   "metadata": {},
   "outputs": [
    {
     "data": {
      "text/plain": [
       "11.31"
      ]
     },
     "execution_count": 118,
     "metadata": {},
     "output_type": "execute_result"
    }
   ],
   "source": [
    "#find the readmission rate1\n",
    "read_rate = round(read_count/adm_count *100,2)\n",
    "read_rate"
   ]
  },
  {
   "cell_type": "code",
   "execution_count": 119,
   "id": "95a527e4",
   "metadata": {},
   "outputs": [
    {
     "data": {
      "text/plain": [
       "9.47"
      ]
     },
     "execution_count": 119,
     "metadata": {},
     "output_type": "execute_result"
    }
   ],
   "source": [
    "#find the unique readmission rate \n",
    "read_rate_unique = round(one_top['Patient ID'].nunique() / one['Patient ID'].nunique()*100,2)\n",
    "read_rate_unique"
   ]
  },
  {
   "cell_type": "markdown",
   "id": "e644afff",
   "metadata": {},
   "source": [
    "# Visualize it\n"
   ]
  },
  {
   "cell_type": "code",
   "execution_count": 128,
   "id": "70f6a756",
   "metadata": {},
   "outputs": [],
   "source": [
    "# new variables\n",
    "one_top['year'] = pd.DatetimeIndex(one_top['Previous End Date']).year\n",
    "one_top['month'] = pd.DatetimeIndex(one_top['Previous End Date']).month"
   ]
  },
  {
   "cell_type": "markdown",
   "id": "b9744d90",
   "metadata": {},
   "source": [
    "HISTOGRAM"
   ]
  },
  {
   "cell_type": "code",
   "execution_count": 123,
   "id": "ccf0b88e",
   "metadata": {},
   "outputs": [],
   "source": [
    "#filter for number of readmissions per patient\n",
    "read_count_patient = one_top.groupby(['Patient ID'], as_index=False).count()\n",
    "read_count_patient = read_count_patient.sort_values(['Patient ID'], ascending = (False))\n",
    "read_count_patient_high = read_count_patient[read_count_patient['Encounter ID'] >= 0]"
   ]
  },
  {
   "cell_type": "code",
   "execution_count": 26,
   "id": "ff19045b",
   "metadata": {},
   "outputs": [],
   "source": [
    "#filter for number of readmissions per Hospital\n",
    "read_count_hospital = one_top.groupby(['Facility Provider NPI'], as_index=False).count()\n",
    "read_count_hospital = read_count_hospital.sort_values(['Patient ID'], ascending = (False))\n",
    "read_count_hospital_high = read_count_hospital[read_count_hospital['Encounter ID'] >= 0]"
   ]
  },
  {
   "cell_type": "code",
   "execution_count": 11,
   "id": "ac2ffd70",
   "metadata": {},
   "outputs": [],
   "source": [
    "#filter for number of readmissions per Attendant \n",
    "read_count_attendant = one_top.groupby(['Attending Provider NPI'], as_index=False).count()\n",
    "read_count_attendant = read_count_attendant.sort_values(['Patient ID'], ascending = (False))\n",
    "read_count_attendant_high = read_count_attendant[read_count_attendant['Encounter ID'] >= 5]"
   ]
  },
  {
   "cell_type": "code",
   "execution_count": 129,
   "id": "5b5ad7fa",
   "metadata": {},
   "outputs": [],
   "source": [
    "#filter for number of readmissions per month\n",
    "read_count_month = one_top.groupby(['year','month'], as_index=False).count()\n",
    "read_count_month = read_count_month.sort_values(['year','month','Patient ID'], ascending = (True, True,False))\n",
    "read_count_month_high = read_count_month[read_count_month['Encounter ID'] >= 0]"
   ]
  },
  {
   "cell_type": "code",
   "execution_count": 155,
   "id": "e5b3b39a",
   "metadata": {
    "scrolled": false
   },
   "outputs": [
    {
     "data": {
      "image/png": "[encoded data removed]",
      "text/plain": [
       "<Figure size 1440x595.44 with 1 Axes>"
      ]
     },
     "metadata": {},
     "output_type": "display_data"
    }
   ],
   "source": [
    "#filter for number of readmissions per patient\n",
    "occurance1 = read_count_patient_high\n",
    "bin1 = 9\n",
    "#filter for number of readmissions per Hospital\n",
    "occurance2 = read_count_hospital_high\n",
    "bin2 = 12\n",
    "#filter for number of readmissions per Attendant \n",
    "occurance3 = read_count_attendant_high\n",
    "bin3 = 12\n",
    "#filter for number of readmissions per Attendant \n",
    "occurance4 = read_count_month_high\n",
    "bin4 = 12\n",
    "\n",
    "_= plt.hist('Encounter ID', bins = bin2, data = occurance2)\n",
    "_= plt.title('Distribution of variable')\n",
    "_= plt.ylabel('Count of High Ocurrances')\n",
    "_= plt.xlabel('Count of Readmissions')"
   ]
  },
  {
   "cell_type": "code",
   "execution_count": 125,
   "id": "a7f08972",
   "metadata": {},
   "outputs": [],
   "source": [
    "mean = occurance4['Encounter ID'].mean()"
   ]
  },
  {
   "cell_type": "code",
   "execution_count": 126,
   "id": "aceec40f",
   "metadata": {
    "scrolled": false
   },
   "outputs": [
    {
     "data": {
      "image/png": "[encoded data removed]",
      "text/plain": [
       "<Figure size 1440x595.44 with 1 Axes>"
      ]
     },
     "metadata": {},
     "output_type": "display_data"
    }
   ],
   "source": [
    "sns.set_theme(style=\"whitegrid\")\n",
    "ax1 = sns.barplot(x='year', y='Encounter ID',  data=occurance4)\n",
    "ax1.axhline(mean, color='r', linestyle='--', label=\"Mean\")\n",
    "_=ax1.legend()"
   ]
  },
  {
   "cell_type": "code",
   "execution_count": 127,
   "id": "10f682cd",
   "metadata": {},
   "outputs": [
    {
     "data": {
      "image/png": "[encoded data removed]",
      "text/plain": [
       "<Figure size 1440x595.44 with 1 Axes>"
      ]
     },
     "metadata": {},
     "output_type": "display_data"
    }
   ],
   "source": [
    "sns.set_theme(style=\"whitegrid\")\n",
    "ax1 = sns.barplot(x='month', y='Encounter ID',  data=occurance4)\n",
    "ax1.axhline(mean, color='r', linestyle='--', label=\"Mean\")\n",
    "_=ax1.legend()"
   ]
  },
  {
   "cell_type": "markdown",
   "id": "d75ca5d0",
   "metadata": {},
   "source": [
    "LINE CHARTS"
   ]
  },
  {
   "cell_type": "code",
   "execution_count": 157,
   "id": "68576cfb",
   "metadata": {},
   "outputs": [
    {
     "data": {
      "text/html": [
       "<div>\n",
       "<style scoped>\n",
       "    .dataframe tbody tr th:only-of-type {\n",
       "        vertical-align: middle;\n",
       "    }\n",
       "\n",
       "    .dataframe tbody tr th {\n",
       "        vertical-align: top;\n",
       "    }\n",
       "\n",
       "    .dataframe thead th {\n",
       "        text-align: right;\n",
       "    }\n",
       "</style>\n",
       "<table border=\"1\" class=\"dataframe\">\n",
       "  <thead>\n",
       "    <tr style=\"text-align: right;\">\n",
       "      <th></th>\n",
       "      <th>Facility Provider NPI</th>\n",
       "      <th>Encounter ID</th>\n",
       "      <th>Patient ID</th>\n",
       "      <th>Encounter Primary Payor ID</th>\n",
       "      <th>Encounter Primary Plan ID</th>\n",
       "      <th>Facility Provider ID</th>\n",
       "      <th>Attending Provider ID</th>\n",
       "      <th>Attending Provider NPI</th>\n",
       "      <th>Encounter Start Date</th>\n",
       "      <th>Encounter End Date</th>\n",
       "      <th>Is Emergency Department Visit Parent Encounter</th>\n",
       "      <th>Is Observation Stay Parent Encounter</th>\n",
       "      <th>CMS Admit Type Code</th>\n",
       "      <th>CMS Admit Source Code</th>\n",
       "      <th>CMS Patient Discharge Status Code</th>\n",
       "      <th>CMS Place of Service Code</th>\n",
       "      <th>Principal Discharge Diagnosis ICD-9-CM Code</th>\n",
       "      <th>Principal Discharge Diagnosis ICD-9-CM Description</th>\n",
       "      <th>Principal Discharge Diagnosis ICD-10-CM Code</th>\n",
       "      <th>Principal Discharge Diagnosis ICD-10-CM Description</th>\n",
       "      <th>Primary Plan Allowed Amount</th>\n",
       "      <th>Primary Plan Paid Amount</th>\n",
       "      <th>Patient Paid Amount</th>\n",
       "      <th>Previous End Date</th>\n",
       "      <th>Days Since Last Visit</th>\n",
       "      <th>year</th>\n",
       "    </tr>\n",
       "  </thead>\n",
       "  <tbody>\n",
       "    <tr>\n",
       "      <th>29</th>\n",
       "      <td>1427055839</td>\n",
       "      <td>116</td>\n",
       "      <td>116</td>\n",
       "      <td>116</td>\n",
       "      <td>116</td>\n",
       "      <td>116</td>\n",
       "      <td>111</td>\n",
       "      <td>111</td>\n",
       "      <td>116</td>\n",
       "      <td>116</td>\n",
       "      <td>116</td>\n",
       "      <td>116</td>\n",
       "      <td>116</td>\n",
       "      <td>115</td>\n",
       "      <td>116</td>\n",
       "      <td>110</td>\n",
       "      <td>41</td>\n",
       "      <td>40</td>\n",
       "      <td>75</td>\n",
       "      <td>74</td>\n",
       "      <td>116</td>\n",
       "      <td>116</td>\n",
       "      <td>116</td>\n",
       "      <td>116</td>\n",
       "      <td>116</td>\n",
       "      <td>116</td>\n",
       "    </tr>\n",
       "    <tr>\n",
       "      <th>14</th>\n",
       "      <td>1184722779</td>\n",
       "      <td>113</td>\n",
       "      <td>113</td>\n",
       "      <td>113</td>\n",
       "      <td>113</td>\n",
       "      <td>113</td>\n",
       "      <td>91</td>\n",
       "      <td>91</td>\n",
       "      <td>113</td>\n",
       "      <td>113</td>\n",
       "      <td>113</td>\n",
       "      <td>113</td>\n",
       "      <td>112</td>\n",
       "      <td>112</td>\n",
       "      <td>113</td>\n",
       "      <td>113</td>\n",
       "      <td>25</td>\n",
       "      <td>24</td>\n",
       "      <td>88</td>\n",
       "      <td>85</td>\n",
       "      <td>113</td>\n",
       "      <td>113</td>\n",
       "      <td>113</td>\n",
       "      <td>113</td>\n",
       "      <td>113</td>\n",
       "      <td>113</td>\n",
       "    </tr>\n",
       "    <tr>\n",
       "      <th>55</th>\n",
       "      <td>1902803315</td>\n",
       "      <td>98</td>\n",
       "      <td>98</td>\n",
       "      <td>98</td>\n",
       "      <td>98</td>\n",
       "      <td>98</td>\n",
       "      <td>95</td>\n",
       "      <td>95</td>\n",
       "      <td>98</td>\n",
       "      <td>98</td>\n",
       "      <td>98</td>\n",
       "      <td>98</td>\n",
       "      <td>98</td>\n",
       "      <td>98</td>\n",
       "      <td>98</td>\n",
       "      <td>98</td>\n",
       "      <td>28</td>\n",
       "      <td>28</td>\n",
       "      <td>70</td>\n",
       "      <td>68</td>\n",
       "      <td>98</td>\n",
       "      <td>98</td>\n",
       "      <td>98</td>\n",
       "      <td>98</td>\n",
       "      <td>98</td>\n",
       "      <td>98</td>\n",
       "    </tr>\n",
       "    <tr>\n",
       "      <th>42</th>\n",
       "      <td>1689772592</td>\n",
       "      <td>83</td>\n",
       "      <td>83</td>\n",
       "      <td>83</td>\n",
       "      <td>83</td>\n",
       "      <td>83</td>\n",
       "      <td>78</td>\n",
       "      <td>78</td>\n",
       "      <td>83</td>\n",
       "      <td>83</td>\n",
       "      <td>83</td>\n",
       "      <td>83</td>\n",
       "      <td>83</td>\n",
       "      <td>83</td>\n",
       "      <td>83</td>\n",
       "      <td>81</td>\n",
       "      <td>28</td>\n",
       "      <td>27</td>\n",
       "      <td>55</td>\n",
       "      <td>54</td>\n",
       "      <td>83</td>\n",
       "      <td>83</td>\n",
       "      <td>83</td>\n",
       "      <td>83</td>\n",
       "      <td>83</td>\n",
       "      <td>83</td>\n",
       "    </tr>\n",
       "    <tr>\n",
       "      <th>45</th>\n",
       "      <td>1710918545</td>\n",
       "      <td>47</td>\n",
       "      <td>47</td>\n",
       "      <td>47</td>\n",
       "      <td>47</td>\n",
       "      <td>47</td>\n",
       "      <td>44</td>\n",
       "      <td>44</td>\n",
       "      <td>47</td>\n",
       "      <td>47</td>\n",
       "      <td>47</td>\n",
       "      <td>47</td>\n",
       "      <td>47</td>\n",
       "      <td>47</td>\n",
       "      <td>47</td>\n",
       "      <td>47</td>\n",
       "      <td>8</td>\n",
       "      <td>8</td>\n",
       "      <td>39</td>\n",
       "      <td>39</td>\n",
       "      <td>47</td>\n",
       "      <td>47</td>\n",
       "      <td>47</td>\n",
       "      <td>47</td>\n",
       "      <td>47</td>\n",
       "      <td>47</td>\n",
       "    </tr>\n",
       "    <tr>\n",
       "      <th>...</th>\n",
       "      <td>...</td>\n",
       "      <td>...</td>\n",
       "      <td>...</td>\n",
       "      <td>...</td>\n",
       "      <td>...</td>\n",
       "      <td>...</td>\n",
       "      <td>...</td>\n",
       "      <td>...</td>\n",
       "      <td>...</td>\n",
       "      <td>...</td>\n",
       "      <td>...</td>\n",
       "      <td>...</td>\n",
       "      <td>...</td>\n",
       "      <td>...</td>\n",
       "      <td>...</td>\n",
       "      <td>...</td>\n",
       "      <td>...</td>\n",
       "      <td>...</td>\n",
       "      <td>...</td>\n",
       "      <td>...</td>\n",
       "      <td>...</td>\n",
       "      <td>...</td>\n",
       "      <td>...</td>\n",
       "      <td>...</td>\n",
       "      <td>...</td>\n",
       "      <td>...</td>\n",
       "    </tr>\n",
       "    <tr>\n",
       "      <th>1</th>\n",
       "      <td>1013906221</td>\n",
       "      <td>1</td>\n",
       "      <td>1</td>\n",
       "      <td>1</td>\n",
       "      <td>1</td>\n",
       "      <td>1</td>\n",
       "      <td>1</td>\n",
       "      <td>1</td>\n",
       "      <td>1</td>\n",
       "      <td>1</td>\n",
       "      <td>1</td>\n",
       "      <td>1</td>\n",
       "      <td>1</td>\n",
       "      <td>1</td>\n",
       "      <td>1</td>\n",
       "      <td>1</td>\n",
       "      <td>0</td>\n",
       "      <td>0</td>\n",
       "      <td>1</td>\n",
       "      <td>1</td>\n",
       "      <td>1</td>\n",
       "      <td>1</td>\n",
       "      <td>1</td>\n",
       "      <td>1</td>\n",
       "      <td>1</td>\n",
       "      <td>1</td>\n",
       "    </tr>\n",
       "    <tr>\n",
       "      <th>31</th>\n",
       "      <td>1457321317</td>\n",
       "      <td>1</td>\n",
       "      <td>1</td>\n",
       "      <td>1</td>\n",
       "      <td>1</td>\n",
       "      <td>1</td>\n",
       "      <td>1</td>\n",
       "      <td>1</td>\n",
       "      <td>1</td>\n",
       "      <td>1</td>\n",
       "      <td>1</td>\n",
       "      <td>1</td>\n",
       "      <td>1</td>\n",
       "      <td>1</td>\n",
       "      <td>1</td>\n",
       "      <td>1</td>\n",
       "      <td>0</td>\n",
       "      <td>0</td>\n",
       "      <td>1</td>\n",
       "      <td>0</td>\n",
       "      <td>1</td>\n",
       "      <td>1</td>\n",
       "      <td>1</td>\n",
       "      <td>1</td>\n",
       "      <td>1</td>\n",
       "      <td>1</td>\n",
       "    </tr>\n",
       "    <tr>\n",
       "      <th>32</th>\n",
       "      <td>1457347239</td>\n",
       "      <td>1</td>\n",
       "      <td>1</td>\n",
       "      <td>1</td>\n",
       "      <td>1</td>\n",
       "      <td>1</td>\n",
       "      <td>1</td>\n",
       "      <td>1</td>\n",
       "      <td>1</td>\n",
       "      <td>1</td>\n",
       "      <td>1</td>\n",
       "      <td>1</td>\n",
       "      <td>1</td>\n",
       "      <td>1</td>\n",
       "      <td>1</td>\n",
       "      <td>1</td>\n",
       "      <td>0</td>\n",
       "      <td>0</td>\n",
       "      <td>1</td>\n",
       "      <td>1</td>\n",
       "      <td>1</td>\n",
       "      <td>1</td>\n",
       "      <td>1</td>\n",
       "      <td>1</td>\n",
       "      <td>1</td>\n",
       "      <td>1</td>\n",
       "    </tr>\n",
       "    <tr>\n",
       "      <th>34</th>\n",
       "      <td>1497705834</td>\n",
       "      <td>1</td>\n",
       "      <td>1</td>\n",
       "      <td>1</td>\n",
       "      <td>1</td>\n",
       "      <td>1</td>\n",
       "      <td>1</td>\n",
       "      <td>1</td>\n",
       "      <td>1</td>\n",
       "      <td>1</td>\n",
       "      <td>1</td>\n",
       "      <td>1</td>\n",
       "      <td>1</td>\n",
       "      <td>1</td>\n",
       "      <td>1</td>\n",
       "      <td>1</td>\n",
       "      <td>1</td>\n",
       "      <td>1</td>\n",
       "      <td>0</td>\n",
       "      <td>0</td>\n",
       "      <td>1</td>\n",
       "      <td>1</td>\n",
       "      <td>1</td>\n",
       "      <td>1</td>\n",
       "      <td>1</td>\n",
       "      <td>1</td>\n",
       "    </tr>\n",
       "    <tr>\n",
       "      <th>30</th>\n",
       "      <td>1447335146</td>\n",
       "      <td>1</td>\n",
       "      <td>1</td>\n",
       "      <td>1</td>\n",
       "      <td>1</td>\n",
       "      <td>1</td>\n",
       "      <td>1</td>\n",
       "      <td>1</td>\n",
       "      <td>1</td>\n",
       "      <td>1</td>\n",
       "      <td>1</td>\n",
       "      <td>1</td>\n",
       "      <td>1</td>\n",
       "      <td>1</td>\n",
       "      <td>1</td>\n",
       "      <td>1</td>\n",
       "      <td>0</td>\n",
       "      <td>0</td>\n",
       "      <td>1</td>\n",
       "      <td>1</td>\n",
       "      <td>1</td>\n",
       "      <td>1</td>\n",
       "      <td>1</td>\n",
       "      <td>1</td>\n",
       "      <td>1</td>\n",
       "      <td>1</td>\n",
       "    </tr>\n",
       "  </tbody>\n",
       "</table>\n",
       "<p>61 rows × 26 columns</p>\n",
       "</div>"
      ],
      "text/plain": [
       "   Facility Provider NPI  Encounter ID  Patient ID  \\\n",
       "29            1427055839           116         116   \n",
       "14            1184722779           113         113   \n",
       "55            1902803315            98          98   \n",
       "42            1689772592            83          83   \n",
       "45            1710918545            47          47   \n",
       "..                   ...           ...         ...   \n",
       "1             1013906221             1           1   \n",
       "31            1457321317             1           1   \n",
       "32            1457347239             1           1   \n",
       "34            1497705834             1           1   \n",
       "30            1447335146             1           1   \n",
       "\n",
       "    Encounter Primary Payor ID  Encounter Primary Plan ID  \\\n",
       "29                         116                        116   \n",
       "14                         113                        113   \n",
       "55                          98                         98   \n",
       "42                          83                         83   \n",
       "45                          47                         47   \n",
       "..                         ...                        ...   \n",
       "1                            1                          1   \n",
       "31                           1                          1   \n",
       "32                           1                          1   \n",
       "34                           1                          1   \n",
       "30                           1                          1   \n",
       "\n",
       "    Facility Provider ID  Attending Provider ID  Attending Provider NPI  \\\n",
       "29                   116                    111                     111   \n",
       "14                   113                     91                      91   \n",
       "55                    98                     95                      95   \n",
       "42                    83                     78                      78   \n",
       "45                    47                     44                      44   \n",
       "..                   ...                    ...                     ...   \n",
       "1                      1                      1                       1   \n",
       "31                     1                      1                       1   \n",
       "32                     1                      1                       1   \n",
       "34                     1                      1                       1   \n",
       "30                     1                      1                       1   \n",
       "\n",
       "    Encounter Start Date  Encounter End Date  \\\n",
       "29                   116                 116   \n",
       "14                   113                 113   \n",
       "55                    98                  98   \n",
       "42                    83                  83   \n",
       "45                    47                  47   \n",
       "..                   ...                 ...   \n",
       "1                      1                   1   \n",
       "31                     1                   1   \n",
       "32                     1                   1   \n",
       "34                     1                   1   \n",
       "30                     1                   1   \n",
       "\n",
       "    Is Emergency Department Visit Parent Encounter  \\\n",
       "29                                             116   \n",
       "14                                             113   \n",
       "55                                              98   \n",
       "42                                              83   \n",
       "45                                              47   \n",
       "..                                             ...   \n",
       "1                                                1   \n",
       "31                                               1   \n",
       "32                                               1   \n",
       "34                                               1   \n",
       "30                                               1   \n",
       "\n",
       "    Is Observation Stay Parent Encounter  CMS Admit Type Code  \\\n",
       "29                                   116                  116   \n",
       "14                                   113                  112   \n",
       "55                                    98                   98   \n",
       "42                                    83                   83   \n",
       "45                                    47                   47   \n",
       "..                                   ...                  ...   \n",
       "1                                      1                    1   \n",
       "31                                     1                    1   \n",
       "32                                     1                    1   \n",
       "34                                     1                    1   \n",
       "30                                     1                    1   \n",
       "\n",
       "    CMS Admit Source Code  CMS Patient Discharge Status Code  \\\n",
       "29                    115                                116   \n",
       "14                    112                                113   \n",
       "55                     98                                 98   \n",
       "42                     83                                 83   \n",
       "45                     47                                 47   \n",
       "..                    ...                                ...   \n",
       "1                       1                                  1   \n",
       "31                      1                                  1   \n",
       "32                      1                                  1   \n",
       "34                      1                                  1   \n",
       "30                      1                                  1   \n",
       "\n",
       "    CMS Place of Service Code  Principal Discharge Diagnosis ICD-9-CM Code  \\\n",
       "29                        110                                           41   \n",
       "14                        113                                           25   \n",
       "55                         98                                           28   \n",
       "42                         81                                           28   \n",
       "45                         47                                            8   \n",
       "..                        ...                                          ...   \n",
       "1                           1                                            0   \n",
       "31                          1                                            0   \n",
       "32                          1                                            0   \n",
       "34                          1                                            1   \n",
       "30                          1                                            0   \n",
       "\n",
       "    Principal Discharge Diagnosis ICD-9-CM Description  \\\n",
       "29                                                 40    \n",
       "14                                                 24    \n",
       "55                                                 28    \n",
       "42                                                 27    \n",
       "45                                                  8    \n",
       "..                                                ...    \n",
       "1                                                   0    \n",
       "31                                                  0    \n",
       "32                                                  0    \n",
       "34                                                  1    \n",
       "30                                                  0    \n",
       "\n",
       "    Principal Discharge Diagnosis ICD-10-CM Code  \\\n",
       "29                                            75   \n",
       "14                                            88   \n",
       "55                                            70   \n",
       "42                                            55   \n",
       "45                                            39   \n",
       "..                                           ...   \n",
       "1                                              1   \n",
       "31                                             1   \n",
       "32                                             1   \n",
       "34                                             0   \n",
       "30                                             1   \n",
       "\n",
       "    Principal Discharge Diagnosis ICD-10-CM Description  \\\n",
       "29                                                 74     \n",
       "14                                                 85     \n",
       "55                                                 68     \n",
       "42                                                 54     \n",
       "45                                                 39     \n",
       "..                                                ...     \n",
       "1                                                   1     \n",
       "31                                                  0     \n",
       "32                                                  1     \n",
       "34                                                  0     \n",
       "30                                                  1     \n",
       "\n",
       "    Primary Plan Allowed Amount  Primary Plan Paid Amount  \\\n",
       "29                          116                       116   \n",
       "14                          113                       113   \n",
       "55                           98                        98   \n",
       "42                           83                        83   \n",
       "45                           47                        47   \n",
       "..                          ...                       ...   \n",
       "1                             1                         1   \n",
       "31                            1                         1   \n",
       "32                            1                         1   \n",
       "34                            1                         1   \n",
       "30                            1                         1   \n",
       "\n",
       "    Patient Paid Amount  Previous End Date  Days Since Last Visit  year  \n",
       "29                  116                116                    116   116  \n",
       "14                  113                113                    113   113  \n",
       "55                   98                 98                     98    98  \n",
       "42                   83                 83                     83    83  \n",
       "45                   47                 47                     47    47  \n",
       "..                  ...                ...                    ...   ...  \n",
       "1                     1                  1                      1     1  \n",
       "31                    1                  1                      1     1  \n",
       "32                    1                  1                      1     1  \n",
       "34                    1                  1                      1     1  \n",
       "30                    1                  1                      1     1  \n",
       "\n",
       "[61 rows x 26 columns]"
      ]
     },
     "execution_count": 157,
     "metadata": {},
     "output_type": "execute_result"
    }
   ],
   "source": [
    "occurance2"
   ]
  },
  {
   "cell_type": "code",
   "execution_count": 173,
   "id": "0d69b454",
   "metadata": {},
   "outputs": [
    {
     "data": {
      "image/png": "[encoded data removed]",
      "text/plain": [
       "<Figure size 1440x595.44 with 1 Axes>"
      ]
     },
     "metadata": {},
     "output_type": "display_data"
    }
   ],
   "source": [
    "#filter for number of readmissions per patient\n",
    "occurance1 = read_count_patient_high\n",
    "#filter for number of readmissions per Hospital\n",
    "occurance2 = read_count_hospital_high\n",
    "#filter for number of readmissions per Attendant \n",
    "occurance3 = read_count_attendant_high\n",
    "\n",
    "#ax = plt.gca()\n",
    "#_=occurance1['Encounter ID'].plot(kind='line', color = 'red', x ='Variable',y ='Count', ax = ax)\n",
    "_=occurance2['Encounter ID'].plot(kind='line', color = 'blue')\n",
    "#_=plt.legend(title='title', bbox_to_anchor=(1, 1), loc='upper left')"
   ]
  },
  {
   "cell_type": "markdown",
   "id": "5184b3a2",
   "metadata": {},
   "source": [
    "PAIR PLOT"
   ]
  },
  {
   "cell_type": "code",
   "execution_count": 15,
   "id": "6dc25978",
   "metadata": {},
   "outputs": [],
   "source": [
    "#pair = one_top.groupby(['Facility Provider NPI'], as_index=False)\n",
    "#sns.set(style=\"ticks\", color_codes=True)\n",
    "#sns.pairplot(pair);\n"
   ]
  },
  {
   "cell_type": "markdown",
   "id": "caeb5cb9",
   "metadata": {},
   "source": [
    "VIOLIN PLOT"
   ]
  },
  {
   "cell_type": "code",
   "execution_count": 16,
   "id": "de4aed68",
   "metadata": {},
   "outputs": [
    {
     "data": {
      "image/png": "[encoded data removed]",
      "text/plain": [
       "<Figure size 1440x595.44 with 1 Axes>"
      ]
     },
     "metadata": {},
     "output_type": "display_data"
    }
   ],
   "source": [
    "sns.set(rc={'figure.figsize':(20,8.27)})\n",
    "violin = one_top[one_top['Facility Provider NPI'] >= '1689608150']\n",
    "sns.violinplot(y=violin['year'], x = violin['Facility Provider NPI'])\n",
    "plt.title('distribution of count by hospital')\n",
    "plt.xlabel('');"
   ]
  },
  {
   "cell_type": "code",
   "execution_count": 17,
   "id": "42247ecd",
   "metadata": {
    "scrolled": true
   },
   "outputs": [
    {
     "data": {
      "image/png": "[encoded data removed]",
      "text/plain": [
       "<Figure size 1440x595.44 with 1 Axes>"
      ]
     },
     "metadata": {},
     "output_type": "display_data"
    }
   ],
   "source": [
    "sns.violinplot(y=one_top['year'], x = one_top['Attending Provider NPI'])\n",
    "plt.title('distribution of count by attendant')\n",
    "plt.xlabel('');"
   ]
  },
  {
   "cell_type": "markdown",
   "id": "7f7a2c97",
   "metadata": {},
   "source": [
    "# MVP 2\n",
    "What percent of patients have a PCP visit within a week of discharge?"
   ]
  },
  {
   "cell_type": "code",
   "execution_count": 84,
   "id": "526d9e35",
   "metadata": {},
   "outputs": [
    {
     "data": {
      "text/plain": [
       "1863"
      ]
     },
     "execution_count": 84,
     "metadata": {},
     "output_type": "execute_result"
    }
   ],
   "source": [
    "two = adm.merge(pcp, left_on ='Patient ID', right_on = 'Patient ID',how='left', indicator = False)\n",
    "#sub encounter date from end dates\n",
    "two['Days Since Last Visit'] = two['Encounter Date'] - two['Encounter End Date']\n",
    "two_top = two[two['Days Since Last Visit'] <= '7 days']\n",
    "two_top = two_top[two_top['Days Since Last Visit'] >= '0 days']\n",
    "two_top = two_top.sort_values(['Patient ID'], ascending = (False)).drop_duplicates(['Patient ID','Encounter End Date'])\n",
    "#count\n",
    "count_two_top = len(two_top)\n",
    "count_two_top"
   ]
  },
  {
   "cell_type": "code",
   "execution_count": 85,
   "id": "13b32911",
   "metadata": {},
   "outputs": [
    {
     "data": {
      "text/plain": [
       "29.99"
      ]
     },
     "execution_count": 85,
     "metadata": {},
     "output_type": "execute_result"
    }
   ],
   "source": [
    "#find the pcp visit within 7 days rate\n",
    "pcp_visit_rate = round(count_two_top/adm_count *100,2)\n",
    "pcp_visit_rate"
   ]
  },
  {
   "cell_type": "code",
   "execution_count": 89,
   "id": "992c4cfe",
   "metadata": {},
   "outputs": [],
   "source": [
    "#filter for number of readmissions per hospital\n",
    "pcp_count_patient = two_top.groupby(['Facility Provider NPI_x'], as_index=False).count()\n",
    "pcp_count_patient = pcp_count_patient.sort_values(['Encounter ID_x'], ascending = (False))\n",
    "pcp_count_patient_high =pcp_count_patient[pcp_count_patient['Encounter ID_x'] >= 5]"
   ]
  },
  {
   "cell_type": "code",
   "execution_count": 87,
   "id": "c2fe0c4f",
   "metadata": {
    "scrolled": true
   },
   "outputs": [
    {
     "data": {
      "image/png": "[encoded data removed]",
      "text/plain": [
       "<Figure size 1440x595.44 with 1 Axes>"
      ]
     },
     "metadata": {},
     "output_type": "display_data"
    }
   ],
   "source": [
    "sns.set_theme(style=\"whitegrid\")\n",
    "ax = sns.barplot(x='Facility Provider NPI_x', y='Encounter ID_x',  data=pcp_count_patient_high)"
   ]
  },
  {
   "cell_type": "code",
   "execution_count": null,
   "id": "90b020b2",
   "metadata": {},
   "outputs": [],
   "source": []
  },
  {
   "cell_type": "code",
   "execution_count": null,
   "id": "59aab693",
   "metadata": {},
   "outputs": [],
   "source": []
  },
  {
   "cell_type": "markdown",
   "id": "ba283817",
   "metadata": {},
   "source": [
    "# Question 3\n",
    "Do either vary by individual or group PCP's?"
   ]
  },
  {
   "cell_type": "code",
   "execution_count": null,
   "id": "05356409",
   "metadata": {},
   "outputs": [],
   "source": []
  },
  {
   "cell_type": "code",
   "execution_count": null,
   "id": "cf639742",
   "metadata": {},
   "outputs": [],
   "source": []
  },
  {
   "cell_type": "code",
   "execution_count": null,
   "id": "e423ac75",
   "metadata": {},
   "outputs": [],
   "source": []
  },
  {
   "cell_type": "code",
   "execution_count": null,
   "id": "078ba35a",
   "metadata": {},
   "outputs": [],
   "source": []
  },
  {
   "cell_type": "code",
   "execution_count": null,
   "id": "593a37fc",
   "metadata": {},
   "outputs": [],
   "source": []
  },
  {
   "cell_type": "code",
   "execution_count": null,
   "id": "49577543",
   "metadata": {},
   "outputs": [],
   "source": []
  },
  {
   "cell_type": "code",
   "execution_count": null,
   "id": "9295f665",
   "metadata": {},
   "outputs": [],
   "source": []
  }
 ],
 "metadata": {
  "kernelspec": {
   "display_name": "Python 3",
   "language": "python",
   "name": "python3"
  },
  "language_info": {
   "codemirror_mode": {
    "name": "ipython",
    "version": 3
   },
   "file_extension": ".py",
   "mimetype": "text/x-python",
   "name": "python",
   "nbconvert_exporter": "python",
   "pygments_lexer": "ipython3",
   "version": "3.8.8"
  }
 },
 "nbformat": 4,
 "nbformat_minor": 5
}
