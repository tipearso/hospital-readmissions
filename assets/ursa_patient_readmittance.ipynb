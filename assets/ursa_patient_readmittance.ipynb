{
 "cells": [
  {
   "cell_type": "code",
   "execution_count": 1,
   "id": "bbf93bd2",
   "metadata": {},
   "outputs": [],
   "source": [
    "import pandas as pd\n",
    "import matplotlib.pyplot as plot\n",
    "import numpy as np"
   ]
  },
  {
   "cell_type": "code",
   "execution_count": 2,
   "id": "5f2ff918",
   "metadata": {},
   "outputs": [],
   "source": [
    "members = pd.read_csv('../data/NSS_GreatCare_Members.csv', low_memory=False)\n",
    "inpatient = pd.read_csv('../data/NSS_Hospital_Inpatient_Admissions.csv', low_memory=False)\n",
    "pcp_visits = pd.read_csv('../data/NSS_PrimaryCare_Office_Visits.csv', low_memory=False)"
   ]
  },
  {
   "cell_type": "code",
   "execution_count": null,
   "id": "a36ee561",
   "metadata": {},
   "outputs": [],
   "source": [
    "members.info()"
   ]
  },
  {
   "cell_type": "code",
   "execution_count": 3,
   "id": "63c34b25",
   "metadata": {},
   "outputs": [],
   "source": [
    "members1 = members[['Patient ID', 'Primary Plan ID']]"
   ]
  },
  {
   "cell_type": "code",
   "execution_count": 4,
   "id": "cad4cf91",
   "metadata": {},
   "outputs": [
    {
     "data": {
      "text/html": [
       "<div>\n",
       "<style scoped>\n",
       "    .dataframe tbody tr th:only-of-type {\n",
       "        vertical-align: middle;\n",
       "    }\n",
       "\n",
       "    .dataframe tbody tr th {\n",
       "        vertical-align: top;\n",
       "    }\n",
       "\n",
       "    .dataframe thead th {\n",
       "        text-align: right;\n",
       "    }\n",
       "</style>\n",
       "<table border=\"1\" class=\"dataframe\">\n",
       "  <thead>\n",
       "    <tr style=\"text-align: right;\">\n",
       "      <th></th>\n",
       "      <th>Patient ID</th>\n",
       "      <th>Primary Plan ID</th>\n",
       "    </tr>\n",
       "  </thead>\n",
       "  <tbody>\n",
       "    <tr>\n",
       "      <th>0</th>\n",
       "      <td>DS1|1</td>\n",
       "      <td>DS1|5047W</td>\n",
       "    </tr>\n",
       "    <tr>\n",
       "      <th>1</th>\n",
       "      <td>DS1|10</td>\n",
       "      <td>DS1|5047W</td>\n",
       "    </tr>\n",
       "    <tr>\n",
       "      <th>2</th>\n",
       "      <td>DS1|100</td>\n",
       "      <td>DS1|5047W</td>\n",
       "    </tr>\n",
       "    <tr>\n",
       "      <th>3</th>\n",
       "      <td>DS1|1000</td>\n",
       "      <td>DS1|5047W</td>\n",
       "    </tr>\n",
       "    <tr>\n",
       "      <th>4</th>\n",
       "      <td>DS1|10000</td>\n",
       "      <td>DS1|5047W</td>\n",
       "    </tr>\n",
       "  </tbody>\n",
       "</table>\n",
       "</div>"
      ],
      "text/plain": [
       "  Patient ID Primary Plan ID\n",
       "0      DS1|1       DS1|5047W\n",
       "1     DS1|10       DS1|5047W\n",
       "2    DS1|100       DS1|5047W\n",
       "3   DS1|1000       DS1|5047W\n",
       "4  DS1|10000       DS1|5047W"
      ]
     },
     "execution_count": 4,
     "metadata": {},
     "output_type": "execute_result"
    }
   ],
   "source": [
    "members1.head()"
   ]
  },
  {
   "cell_type": "code",
   "execution_count": 9,
   "id": "acf93ba5",
   "metadata": {},
   "outputs": [
    {
     "name": "stdout",
     "output_type": "stream",
     "text": [
      "<class 'pandas.core.frame.DataFrame'>\n",
      "RangeIndex: 6213 entries, 0 to 6212\n",
      "Data columns (total 23 columns):\n",
      " #   Column                                               Non-Null Count  Dtype  \n",
      "---  ------                                               --------------  -----  \n",
      " 0   Encounter ID                                         6213 non-null   object \n",
      " 1   Patient ID                                           6213 non-null   object \n",
      " 2   Encounter Primary Payor ID                           6213 non-null   object \n",
      " 3   Encounter Primary Plan ID                            6213 non-null   object \n",
      " 4   Facility Provider ID                                 6213 non-null   object \n",
      " 5   Attending Provider ID                                5884 non-null   object \n",
      " 6   Attending Provider NPI                               5884 non-null   float64\n",
      " 7   Facility Provider NPI                                6213 non-null   object \n",
      " 8   Encounter Start Date                                 6213 non-null   object \n",
      " 9   Encounter End Date                                   6213 non-null   object \n",
      " 10  Is Emergency Department Visit Parent Encounter       6213 non-null   int64  \n",
      " 11  Is Observation Stay Parent Encounter                 6213 non-null   int64  \n",
      " 12  CMS Admit Type Code                                  6196 non-null   float64\n",
      " 13  CMS Admit Source Code                                6027 non-null   object \n",
      " 14  CMS Patient Discharge Status Code                    6213 non-null   int64  \n",
      " 15  CMS Place of Service Code                            5378 non-null   float64\n",
      " 16  Principal Discharge Diagnosis ICD-9-CM Code          1620 non-null   object \n",
      " 17  Principal Discharge Diagnosis ICD-9-CM Description   1601 non-null   object \n",
      " 18  Principal Discharge Diagnosis ICD-10-CM Code         4577 non-null   object \n",
      " 19  Principal Discharge Diagnosis ICD-10-CM Description  4522 non-null   object \n",
      " 20  Primary Plan Allowed Amount                          6213 non-null   int64  \n",
      " 21  Primary Plan Paid Amount                             6213 non-null   float64\n",
      " 22  Patient Paid Amount                                  6213 non-null   float64\n",
      "dtypes: float64(5), int64(4), object(14)\n",
      "memory usage: 1.1+ MB\n"
     ]
    }
   ],
   "source": [
    "inpatient.info()"
   ]
  },
  {
   "cell_type": "code",
   "execution_count": 5,
   "id": "6cf7e3f3",
   "metadata": {},
   "outputs": [],
   "source": [
    "inpatient1=inpatient[['Encounter ID', 'Patient ID', 'Facility Provider NPI', 'Encounter Start Date', 'Encounter End Date']]"
   ]
  },
  {
   "cell_type": "code",
   "execution_count": 6,
   "id": "01dc1c61",
   "metadata": {},
   "outputs": [
    {
     "data": {
      "text/html": [
       "<div>\n",
       "<style scoped>\n",
       "    .dataframe tbody tr th:only-of-type {\n",
       "        vertical-align: middle;\n",
       "    }\n",
       "\n",
       "    .dataframe tbody tr th {\n",
       "        vertical-align: top;\n",
       "    }\n",
       "\n",
       "    .dataframe thead th {\n",
       "        text-align: right;\n",
       "    }\n",
       "</style>\n",
       "<table border=\"1\" class=\"dataframe\">\n",
       "  <thead>\n",
       "    <tr style=\"text-align: right;\">\n",
       "      <th></th>\n",
       "      <th>Encounter ID</th>\n",
       "      <th>Patient ID</th>\n",
       "      <th>Facility Provider NPI</th>\n",
       "      <th>Encounter Start Date</th>\n",
       "      <th>Encounter End Date</th>\n",
       "    </tr>\n",
       "  </thead>\n",
       "  <tbody>\n",
       "    <tr>\n",
       "      <th>0</th>\n",
       "      <td>HIA|DS1|10033|DS1|NPI|1306890389|1</td>\n",
       "      <td>DS1|10033</td>\n",
       "      <td>1306890389</td>\n",
       "      <td>2013-01-12</td>\n",
       "      <td>2013-01-14</td>\n",
       "    </tr>\n",
       "    <tr>\n",
       "      <th>1</th>\n",
       "      <td>HIA|DS1|10043|DS1|NPI|1902803315|1</td>\n",
       "      <td>DS1|10043</td>\n",
       "      <td>1902803315</td>\n",
       "      <td>2014-01-05</td>\n",
       "      <td>2014-01-12</td>\n",
       "    </tr>\n",
       "    <tr>\n",
       "      <th>2</th>\n",
       "      <td>HIA|DS1|10073|DS1|NPI|1902803315|1</td>\n",
       "      <td>DS1|10073</td>\n",
       "      <td>1902803315</td>\n",
       "      <td>2012-06-13</td>\n",
       "      <td>2012-06-21</td>\n",
       "    </tr>\n",
       "    <tr>\n",
       "      <th>3</th>\n",
       "      <td>HIA|DS1|10101|DS1|NPI|1427055839|1</td>\n",
       "      <td>DS1|10101</td>\n",
       "      <td>1427055839</td>\n",
       "      <td>2012-12-06</td>\n",
       "      <td>2012-12-09</td>\n",
       "    </tr>\n",
       "    <tr>\n",
       "      <th>4</th>\n",
       "      <td>HIA|DS1|10118|DS1|NPI|1992818256|1</td>\n",
       "      <td>DS1|10118</td>\n",
       "      <td>1992818256</td>\n",
       "      <td>2015-03-11</td>\n",
       "      <td>2015-03-14</td>\n",
       "    </tr>\n",
       "  </tbody>\n",
       "</table>\n",
       "</div>"
      ],
      "text/plain": [
       "                         Encounter ID Patient ID Facility Provider NPI  \\\n",
       "0  HIA|DS1|10033|DS1|NPI|1306890389|1  DS1|10033            1306890389   \n",
       "1  HIA|DS1|10043|DS1|NPI|1902803315|1  DS1|10043            1902803315   \n",
       "2  HIA|DS1|10073|DS1|NPI|1902803315|1  DS1|10073            1902803315   \n",
       "3  HIA|DS1|10101|DS1|NPI|1427055839|1  DS1|10101            1427055839   \n",
       "4  HIA|DS1|10118|DS1|NPI|1992818256|1  DS1|10118            1992818256   \n",
       "\n",
       "  Encounter Start Date Encounter End Date  \n",
       "0           2013-01-12         2013-01-14  \n",
       "1           2014-01-05         2014-01-12  \n",
       "2           2012-06-13         2012-06-21  \n",
       "3           2012-12-06         2012-12-09  \n",
       "4           2015-03-11         2015-03-14  "
      ]
     },
     "execution_count": 6,
     "metadata": {},
     "output_type": "execute_result"
    }
   ],
   "source": [
    "inpatient1.head()"
   ]
  },
  {
   "cell_type": "code",
   "execution_count": null,
   "id": "252b66ab",
   "metadata": {},
   "outputs": [],
   "source": [
    "pcp_visits.info()"
   ]
  },
  {
   "cell_type": "code",
   "execution_count": 7,
   "id": "6fea751a",
   "metadata": {},
   "outputs": [],
   "source": [
    "pcp_visits1=pcp_visits[['Encounter ID', 'Patient ID', 'Encounter Date']]"
   ]
  },
  {
   "cell_type": "code",
   "execution_count": 8,
   "id": "729e394f",
   "metadata": {},
   "outputs": [
    {
     "data": {
      "text/html": [
       "<div>\n",
       "<style scoped>\n",
       "    .dataframe tbody tr th:only-of-type {\n",
       "        vertical-align: middle;\n",
       "    }\n",
       "\n",
       "    .dataframe tbody tr th {\n",
       "        vertical-align: top;\n",
       "    }\n",
       "\n",
       "    .dataframe thead th {\n",
       "        text-align: right;\n",
       "    }\n",
       "</style>\n",
       "<table border=\"1\" class=\"dataframe\">\n",
       "  <thead>\n",
       "    <tr style=\"text-align: right;\">\n",
       "      <th></th>\n",
       "      <th>Encounter ID</th>\n",
       "      <th>Patient ID</th>\n",
       "      <th>Encounter Date</th>\n",
       "    </tr>\n",
       "  </thead>\n",
       "  <tbody>\n",
       "    <tr>\n",
       "      <th>0</th>\n",
       "      <td>COV|EE|DS1|10076|20110225|DS1|NPI|1487856779</td>\n",
       "      <td>DS1|10076</td>\n",
       "      <td>2011-02-18</td>\n",
       "    </tr>\n",
       "    <tr>\n",
       "      <th>1</th>\n",
       "      <td>COV|EE|DS1|10088|20140222|DS1|NPI|1528030996</td>\n",
       "      <td>DS1|10088</td>\n",
       "      <td>2014-02-22</td>\n",
       "    </tr>\n",
       "    <tr>\n",
       "      <th>2</th>\n",
       "      <td>COV|EE|DS1|10165|20140907|DS1|NPI|1477579365</td>\n",
       "      <td>DS1|10165</td>\n",
       "      <td>2014-08-31</td>\n",
       "    </tr>\n",
       "    <tr>\n",
       "      <th>3</th>\n",
       "      <td>COV|EE|DS1|10240|20130624|DS1|NPI|1821178088</td>\n",
       "      <td>DS1|10240</td>\n",
       "      <td>2013-06-17</td>\n",
       "    </tr>\n",
       "    <tr>\n",
       "      <th>4</th>\n",
       "      <td>COV|EE|DS1|10293|20160904|DS1|NPI|1609004191</td>\n",
       "      <td>DS1|10293</td>\n",
       "      <td>2016-09-04</td>\n",
       "    </tr>\n",
       "  </tbody>\n",
       "</table>\n",
       "</div>"
      ],
      "text/plain": [
       "                                   Encounter ID Patient ID Encounter Date\n",
       "0  COV|EE|DS1|10076|20110225|DS1|NPI|1487856779  DS1|10076     2011-02-18\n",
       "1  COV|EE|DS1|10088|20140222|DS1|NPI|1528030996  DS1|10088     2014-02-22\n",
       "2  COV|EE|DS1|10165|20140907|DS1|NPI|1477579365  DS1|10165     2014-08-31\n",
       "3  COV|EE|DS1|10240|20130624|DS1|NPI|1821178088  DS1|10240     2013-06-17\n",
       "4  COV|EE|DS1|10293|20160904|DS1|NPI|1609004191  DS1|10293     2016-09-04"
      ]
     },
     "execution_count": 8,
     "metadata": {},
     "output_type": "execute_result"
    }
   ],
   "source": [
    "pcp_visits1.head()"
   ]
  },
  {
   "cell_type": "code",
   "execution_count": null,
   "id": "7969652b",
   "metadata": {},
   "outputs": [],
   "source": [
    "#to show all the rows:\n",
    "#pd.set_option('display.max_columns', None)"
   ]
  }
 ],
 "metadata": {
  "kernelspec": {
   "display_name": "Python 3",
   "language": "python",
   "name": "python3"
  },
  "language_info": {
   "codemirror_mode": {
    "name": "ipython",
    "version": 3
   },
   "file_extension": ".py",
   "mimetype": "text/x-python",
   "name": "python",
   "nbconvert_exporter": "python",
   "pygments_lexer": "ipython3",
   "version": "3.8.8"
  }
 },
 "nbformat": 4,
 "nbformat_minor": 5
}
