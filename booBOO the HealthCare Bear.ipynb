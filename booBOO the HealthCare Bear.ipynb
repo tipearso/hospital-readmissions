{
 "cells": [
  {
   "cell_type": "code",
   "execution_count": 1,
   "id": "691da1d8",
   "metadata": {},
   "outputs": [],
   "source": [
    "import pandas as pd \n",
    "import seaborn as sns\n",
    "import matplotlib.pyplot as plot \n",
    "import numpy as np\n",
    "import datetime as dt\n",
    "pd.set_option('display.max_columns', None)\n",
    "%matplotlib inline"
   ]
  },
  {
   "cell_type": "markdown",
   "id": "92ef57de",
   "metadata": {},
   "source": [
    "Brenda's code"
   ]
  },
  {
   "cell_type": "code",
   "execution_count": 7,
   "id": "bb2fdfee",
   "metadata": {
    "scrolled": true
   },
   "outputs": [
    {
     "data": {
      "text/html": [
       "<div>\n",
       "<style scoped>\n",
       "    .dataframe tbody tr th:only-of-type {\n",
       "        vertical-align: middle;\n",
       "    }\n",
       "\n",
       "    .dataframe tbody tr th {\n",
       "        vertical-align: top;\n",
       "    }\n",
       "\n",
       "    .dataframe thead th {\n",
       "        text-align: right;\n",
       "    }\n",
       "</style>\n",
       "<table border=\"1\" class=\"dataframe\">\n",
       "  <thead>\n",
       "    <tr style=\"text-align: right;\">\n",
       "      <th></th>\n",
       "      <th>Encounter ID</th>\n",
       "      <th>Patient ID</th>\n",
       "      <th>Service Provider ID</th>\n",
       "      <th>Attending Provider ID</th>\n",
       "      <th>Provider Group Provider ID</th>\n",
       "      <th>Facility Provider ID</th>\n",
       "      <th>Encounter Primary Payor ID</th>\n",
       "      <th>Encounter Primary Plan ID</th>\n",
       "      <th>Attending Provider NPI</th>\n",
       "      <th>Facility Provider NPI</th>\n",
       "      <th>Service Provider NPI</th>\n",
       "      <th>Provider Group NPI</th>\n",
       "      <th>Encounter Date</th>\n",
       "      <th>Is Qualifying Preventive Primary Care Service</th>\n",
       "      <th>Is Qualifying Primary Care Service Provider</th>\n",
       "      <th>Is Qualifying Primary Care Attending</th>\n",
       "      <th>Is Qualifying Primary Care Provider Group</th>\n",
       "      <th>Qualifying Preventive Primary Care HCPCS Code</th>\n",
       "    </tr>\n",
       "  </thead>\n",
       "  <tbody>\n",
       "    <tr>\n",
       "      <th>0</th>\n",
       "      <td>COV|EE|DS1|10076|20110225|DS1|NPI|1487856779</td>\n",
       "      <td>DS1|10076</td>\n",
       "      <td>DS1|NPI|1487856779</td>\n",
       "      <td>NaN</td>\n",
       "      <td>DS1|NPI|1043427248</td>\n",
       "      <td>NaN</td>\n",
       "      <td>DS1|1</td>\n",
       "      <td>DS1|5047W</td>\n",
       "      <td>NaN</td>\n",
       "      <td>NaN</td>\n",
       "      <td>1.487857e+09</td>\n",
       "      <td>1.043427e+09</td>\n",
       "      <td>2011-02-18</td>\n",
       "      <td>0</td>\n",
       "      <td>1</td>\n",
       "      <td>0</td>\n",
       "      <td>0</td>\n",
       "      <td>NaN</td>\n",
       "    </tr>\n",
       "    <tr>\n",
       "      <th>1</th>\n",
       "      <td>COV|EE|DS1|10088|20140222|DS1|NPI|1528030996</td>\n",
       "      <td>DS1|10088</td>\n",
       "      <td>DS1|NPI|1528030996</td>\n",
       "      <td>DS1|NPI|1528030996</td>\n",
       "      <td>DS1|NPI|1043427248</td>\n",
       "      <td>DS1|NPI|1902803315</td>\n",
       "      <td>DS1|1</td>\n",
       "      <td>DS1|5047W</td>\n",
       "      <td>1.528031e+09</td>\n",
       "      <td>1.902803e+09</td>\n",
       "      <td>1.528031e+09</td>\n",
       "      <td>1.043427e+09</td>\n",
       "      <td>2014-02-22</td>\n",
       "      <td>0</td>\n",
       "      <td>1</td>\n",
       "      <td>1</td>\n",
       "      <td>1</td>\n",
       "      <td>NaN</td>\n",
       "    </tr>\n",
       "    <tr>\n",
       "      <th>2</th>\n",
       "      <td>COV|EE|DS1|10165|20140907|DS1|NPI|1477579365</td>\n",
       "      <td>DS1|10165</td>\n",
       "      <td>DS1|NPI|1477579365</td>\n",
       "      <td>NaN</td>\n",
       "      <td>DS1|NPI|1043427248</td>\n",
       "      <td>NaN</td>\n",
       "      <td>DS1|1</td>\n",
       "      <td>DS1|5047W</td>\n",
       "      <td>NaN</td>\n",
       "      <td>NaN</td>\n",
       "      <td>1.477579e+09</td>\n",
       "      <td>1.043427e+09</td>\n",
       "      <td>2014-08-31</td>\n",
       "      <td>0</td>\n",
       "      <td>1</td>\n",
       "      <td>0</td>\n",
       "      <td>0</td>\n",
       "      <td>NaN</td>\n",
       "    </tr>\n",
       "    <tr>\n",
       "      <th>3</th>\n",
       "      <td>COV|EE|DS1|10240|20130624|DS1|NPI|1821178088</td>\n",
       "      <td>DS1|10240</td>\n",
       "      <td>DS1|NPI|1821178088</td>\n",
       "      <td>DS1|NPI|1821178088</td>\n",
       "      <td>DS1|NPI|1407058787</td>\n",
       "      <td>DS1|NPI|1104842020</td>\n",
       "      <td>DS1|1</td>\n",
       "      <td>DS1|5047W</td>\n",
       "      <td>1.821178e+09</td>\n",
       "      <td>1.104842e+09</td>\n",
       "      <td>1.821178e+09</td>\n",
       "      <td>1.407059e+09</td>\n",
       "      <td>2013-06-17</td>\n",
       "      <td>0</td>\n",
       "      <td>1</td>\n",
       "      <td>1</td>\n",
       "      <td>1</td>\n",
       "      <td>NaN</td>\n",
       "    </tr>\n",
       "    <tr>\n",
       "      <th>4</th>\n",
       "      <td>COV|EE|DS1|10293|20160904|DS1|NPI|1609004191</td>\n",
       "      <td>DS1|10293</td>\n",
       "      <td>DS1|NPI|1609004191</td>\n",
       "      <td>NaN</td>\n",
       "      <td>DS1|NPI|1184722779</td>\n",
       "      <td>NaN</td>\n",
       "      <td>DS1|1</td>\n",
       "      <td>DS1|5047X</td>\n",
       "      <td>NaN</td>\n",
       "      <td>NaN</td>\n",
       "      <td>1.609004e+09</td>\n",
       "      <td>1.184723e+09</td>\n",
       "      <td>2016-09-04</td>\n",
       "      <td>0</td>\n",
       "      <td>1</td>\n",
       "      <td>0</td>\n",
       "      <td>0</td>\n",
       "      <td>NaN</td>\n",
       "    </tr>\n",
       "  </tbody>\n",
       "</table>\n",
       "</div>"
      ],
      "text/plain": [
       "                                   Encounter ID Patient ID  \\\n",
       "0  COV|EE|DS1|10076|20110225|DS1|NPI|1487856779  DS1|10076   \n",
       "1  COV|EE|DS1|10088|20140222|DS1|NPI|1528030996  DS1|10088   \n",
       "2  COV|EE|DS1|10165|20140907|DS1|NPI|1477579365  DS1|10165   \n",
       "3  COV|EE|DS1|10240|20130624|DS1|NPI|1821178088  DS1|10240   \n",
       "4  COV|EE|DS1|10293|20160904|DS1|NPI|1609004191  DS1|10293   \n",
       "\n",
       "  Service Provider ID Attending Provider ID Provider Group Provider ID  \\\n",
       "0  DS1|NPI|1487856779                   NaN         DS1|NPI|1043427248   \n",
       "1  DS1|NPI|1528030996    DS1|NPI|1528030996         DS1|NPI|1043427248   \n",
       "2  DS1|NPI|1477579365                   NaN         DS1|NPI|1043427248   \n",
       "3  DS1|NPI|1821178088    DS1|NPI|1821178088         DS1|NPI|1407058787   \n",
       "4  DS1|NPI|1609004191                   NaN         DS1|NPI|1184722779   \n",
       "\n",
       "  Facility Provider ID Encounter Primary Payor ID Encounter Primary Plan ID  \\\n",
       "0                  NaN                      DS1|1                 DS1|5047W   \n",
       "1   DS1|NPI|1902803315                      DS1|1                 DS1|5047W   \n",
       "2                  NaN                      DS1|1                 DS1|5047W   \n",
       "3   DS1|NPI|1104842020                      DS1|1                 DS1|5047W   \n",
       "4                  NaN                      DS1|1                 DS1|5047X   \n",
       "\n",
       "   Attending Provider NPI  Facility Provider NPI  Service Provider NPI  \\\n",
       "0                     NaN                    NaN          1.487857e+09   \n",
       "1            1.528031e+09           1.902803e+09          1.528031e+09   \n",
       "2                     NaN                    NaN          1.477579e+09   \n",
       "3            1.821178e+09           1.104842e+09          1.821178e+09   \n",
       "4                     NaN                    NaN          1.609004e+09   \n",
       "\n",
       "   Provider Group NPI Encounter Date  \\\n",
       "0        1.043427e+09     2011-02-18   \n",
       "1        1.043427e+09     2014-02-22   \n",
       "2        1.043427e+09     2014-08-31   \n",
       "3        1.407059e+09     2013-06-17   \n",
       "4        1.184723e+09     2016-09-04   \n",
       "\n",
       "   Is Qualifying Preventive Primary Care Service  \\\n",
       "0                                              0   \n",
       "1                                              0   \n",
       "2                                              0   \n",
       "3                                              0   \n",
       "4                                              0   \n",
       "\n",
       "   Is Qualifying Primary Care Service Provider  \\\n",
       "0                                            1   \n",
       "1                                            1   \n",
       "2                                            1   \n",
       "3                                            1   \n",
       "4                                            1   \n",
       "\n",
       "   Is Qualifying Primary Care Attending  \\\n",
       "0                                     0   \n",
       "1                                     1   \n",
       "2                                     0   \n",
       "3                                     1   \n",
       "4                                     0   \n",
       "\n",
       "   Is Qualifying Primary Care Provider Group  \\\n",
       "0                                          0   \n",
       "1                                          1   \n",
       "2                                          0   \n",
       "3                                          1   \n",
       "4                                          0   \n",
       "\n",
       "  Qualifying Preventive Primary Care HCPCS Code  \n",
       "0                                           NaN  \n",
       "1                                           NaN  \n",
       "2                                           NaN  \n",
       "3                                           NaN  \n",
       "4                                           NaN  "
      ]
     },
     "execution_count": 7,
     "metadata": {},
     "output_type": "execute_result"
    }
   ],
   "source": [
    "mem = pd.read_csv('./data/NSS_GreatCare_Members.csv')\n",
    "adm = pd.read_csv('./data/NSS_Hospital_Inpatient_Admissions.csv')\n",
    "pcp = pd.read_csv('./data/NSS_PrimaryCare_Office_Visits.csv', low_memory = False)\n",
    "pcp.head(5)"
   ]
  },
  {
   "cell_type": "markdown",
   "id": "61c8eed3",
   "metadata": {},
   "source": [
    "\n",
    "\n",
    "two[['First','second','third','fourth','fifth','sixth','Last']] = two['Encounter ID'].apply( lambda x: pd.Series(str(x).split(\"|\"))) two.head()\n"
   ]
  },
  {
   "cell_type": "code",
   "execution_count": 9,
   "id": "22e1ab12",
   "metadata": {},
   "outputs": [],
   "source": [
    "#set datetime\n",
    "adm['Encounter Start Date'] = pd.to_datetime(adm['Encounter Start Date'], format='%Y-%m-%d')\n",
    "adm['Encounter End Date'] = pd.to_datetime(adm['Encounter End Date'], format='%Y-%m-%d')\n",
    "pcp['Encounter Date'] = pd.to_datetime(pcp['Encounter Date'], format='%Y-%m-%d')"
   ]
  },
  {
   "cell_type": "markdown",
   "id": "02e5c2dc",
   "metadata": {},
   "source": [
    "# MVP 1"
   ]
  },
  {
   "cell_type": "markdown",
   "id": "1582bff5",
   "metadata": {},
   "source": [
    "\n",
    "\n",
    "What is our 30-day all cause readmission rate across hospitals our members are admitted to?\n"
   ]
  },
  {
   "cell_type": "code",
   "execution_count": 10,
   "id": "187e1f7b",
   "metadata": {},
   "outputs": [
    {
     "data": {
      "text/plain": [
       "6213"
      ]
     },
     "execution_count": 10,
     "metadata": {},
     "output_type": "execute_result"
    }
   ],
   "source": [
    "#make df(patient, start date, end date)\n",
    "one = adm[['Patient ID','Encounter Start Date','Encounter End Date']]\n",
    "#order by patient then start date\n",
    "one = one.sort_values(['Patient ID',\"Encounter Start Date\", \"Encounter End Date\"], ascending = (False, True, True))\n",
    "#shift previous end date to next row and math\n",
    "one['Previous End Date'] = (one.groupby('Patient ID')['Encounter End Date'].shift(1))\n",
    "one['Days Since Last Visit'] = one['Encounter Start Date'] - one['Previous End Date']\n",
    "\n",
    "ad_count = len(one)\n",
    "ad_count"
   ]
  },
  {
   "cell_type": "markdown",
   "id": "1db70ddc",
   "metadata": {},
   "source": [
    "# Different Direction\n"
   ]
  },
  {
   "cell_type": "markdown",
   "id": "198c90f3",
   "metadata": {},
   "source": [
    "# if difference between Encounter End Date and Encounter Start Date "
   ]
  },
  {
   "cell_type": "markdown",
   "id": "5c2b947f",
   "metadata": {},
   "source": [
    "one['diff'] = one.groupby('Patient ID')['Encounter Start Date'].diff() / np.timedelta64(1, 'D') one['diff'] = one['diff'].fillna(0) one['diff_end'] = one.groupby('Patient ID')['Encounter End Date'].diff() / np.timedelta64(1, 'D') one['diff_end'] = one['diff_end'].fillna(0)"
   ]
  },
  {
   "cell_type": "markdown",
   "id": "1f8e99f5",
   "metadata": {},
   "source": [
    "# length of stay - not grouped by"
   ]
  },
  {
   "cell_type": "markdown",
   "id": "8b0195d9",
   "metadata": {},
   "source": [
    "one['length'] = one['Encounter End Date']-one['Encounter Start Date'] one['length'] = one['length'].fillna(0)"
   ]
  },
  {
   "cell_type": "code",
   "execution_count": 11,
   "id": "d151f375",
   "metadata": {},
   "outputs": [
    {
     "data": {
      "text/html": [
       "<div>\n",
       "<style scoped>\n",
       "    .dataframe tbody tr th:only-of-type {\n",
       "        vertical-align: middle;\n",
       "    }\n",
       "\n",
       "    .dataframe tbody tr th {\n",
       "        vertical-align: top;\n",
       "    }\n",
       "\n",
       "    .dataframe thead th {\n",
       "        text-align: right;\n",
       "    }\n",
       "</style>\n",
       "<table border=\"1\" class=\"dataframe\">\n",
       "  <thead>\n",
       "    <tr style=\"text-align: right;\">\n",
       "      <th></th>\n",
       "      <th>Patient ID</th>\n",
       "      <th>Previous End Date</th>\n",
       "      <th>Encounter Start Date</th>\n",
       "      <th>Encounter End Date</th>\n",
       "      <th>Days Since Last Visit</th>\n",
       "    </tr>\n",
       "  </thead>\n",
       "  <tbody>\n",
       "    <tr>\n",
       "      <th>6211</th>\n",
       "      <td>DS1|9994</td>\n",
       "      <td>2015-11-23</td>\n",
       "      <td>2015-11-24</td>\n",
       "      <td>2015-11-27</td>\n",
       "      <td>1 days</td>\n",
       "    </tr>\n",
       "    <tr>\n",
       "      <th>6202</th>\n",
       "      <td>DS1|9943</td>\n",
       "      <td>2013-10-16</td>\n",
       "      <td>2013-10-25</td>\n",
       "      <td>2013-10-28</td>\n",
       "      <td>9 days</td>\n",
       "    </tr>\n",
       "    <tr>\n",
       "      <th>6199</th>\n",
       "      <td>DS1|9935</td>\n",
       "      <td>2011-01-24</td>\n",
       "      <td>2011-01-25</td>\n",
       "      <td>2011-01-26</td>\n",
       "      <td>1 days</td>\n",
       "    </tr>\n",
       "    <tr>\n",
       "      <th>6197</th>\n",
       "      <td>DS1|9935</td>\n",
       "      <td>2011-01-26</td>\n",
       "      <td>2011-01-26</td>\n",
       "      <td>2011-02-07</td>\n",
       "      <td>0 days</td>\n",
       "    </tr>\n",
       "    <tr>\n",
       "      <th>6185</th>\n",
       "      <td>DS1|9809</td>\n",
       "      <td>2013-01-11</td>\n",
       "      <td>2013-01-20</td>\n",
       "      <td>2013-01-24</td>\n",
       "      <td>9 days</td>\n",
       "    </tr>\n",
       "    <tr>\n",
       "      <th>...</th>\n",
       "      <td>...</td>\n",
       "      <td>...</td>\n",
       "      <td>...</td>\n",
       "      <td>...</td>\n",
       "      <td>...</td>\n",
       "    </tr>\n",
       "    <tr>\n",
       "      <th>38</th>\n",
       "      <td>DS1|10451</td>\n",
       "      <td>2013-04-26</td>\n",
       "      <td>2013-05-01</td>\n",
       "      <td>2013-05-09</td>\n",
       "      <td>5 days</td>\n",
       "    </tr>\n",
       "    <tr>\n",
       "      <th>40</th>\n",
       "      <td>DS1|10451</td>\n",
       "      <td>2013-07-01</td>\n",
       "      <td>2013-07-26</td>\n",
       "      <td>2013-08-03</td>\n",
       "      <td>25 days</td>\n",
       "    </tr>\n",
       "    <tr>\n",
       "      <th>41</th>\n",
       "      <td>DS1|10451</td>\n",
       "      <td>2013-08-03</td>\n",
       "      <td>2013-08-31</td>\n",
       "      <td>2013-09-02</td>\n",
       "      <td>28 days</td>\n",
       "    </tr>\n",
       "    <tr>\n",
       "      <th>43</th>\n",
       "      <td>DS1|10451</td>\n",
       "      <td>2013-11-20</td>\n",
       "      <td>2013-12-17</td>\n",
       "      <td>2013-12-19</td>\n",
       "      <td>27 days</td>\n",
       "    </tr>\n",
       "    <tr>\n",
       "      <th>44</th>\n",
       "      <td>DS1|10451</td>\n",
       "      <td>2014-04-26</td>\n",
       "      <td>2014-05-23</td>\n",
       "      <td>2014-05-29</td>\n",
       "      <td>27 days</td>\n",
       "    </tr>\n",
       "  </tbody>\n",
       "</table>\n",
       "<p>703 rows × 5 columns</p>\n",
       "</div>"
      ],
      "text/plain": [
       "     Patient ID Previous End Date Encounter Start Date Encounter End Date  \\\n",
       "6211   DS1|9994        2015-11-23           2015-11-24         2015-11-27   \n",
       "6202   DS1|9943        2013-10-16           2013-10-25         2013-10-28   \n",
       "6199   DS1|9935        2011-01-24           2011-01-25         2011-01-26   \n",
       "6197   DS1|9935        2011-01-26           2011-01-26         2011-02-07   \n",
       "6185   DS1|9809        2013-01-11           2013-01-20         2013-01-24   \n",
       "...         ...               ...                  ...                ...   \n",
       "38    DS1|10451        2013-04-26           2013-05-01         2013-05-09   \n",
       "40    DS1|10451        2013-07-01           2013-07-26         2013-08-03   \n",
       "41    DS1|10451        2013-08-03           2013-08-31         2013-09-02   \n",
       "43    DS1|10451        2013-11-20           2013-12-17         2013-12-19   \n",
       "44    DS1|10451        2014-04-26           2014-05-23         2014-05-29   \n",
       "\n",
       "     Days Since Last Visit  \n",
       "6211                1 days  \n",
       "6202                9 days  \n",
       "6199                1 days  \n",
       "6197                0 days  \n",
       "6185                9 days  \n",
       "...                    ...  \n",
       "38                  5 days  \n",
       "40                 25 days  \n",
       "41                 28 days  \n",
       "43                 27 days  \n",
       "44                 27 days  \n",
       "\n",
       "[703 rows x 5 columns]"
      ]
     },
     "execution_count": 11,
     "metadata": {},
     "output_type": "execute_result"
    }
   ],
   "source": [
    "#filter for readmission and within 30 days\n",
    "one_top = one[['Patient ID', 'Previous End Date', 'Encounter Start Date', 'Encounter End Date', 'Days Since Last Visit']]\n",
    "one_top = one_top[one_top['Days Since Last Visit'].notnull()]\n",
    "one_top = one_top[one_top['Days Since Last Visit'] <= '30 days']\n",
    "one_top = one_top[one_top['Days Since Last Visit'] >= '0 days']\n",
    "one_top\n",
    "read_count = len(one_top)\n",
    "read_count\n",
    "one_top"
   ]
  },
  {
   "cell_type": "code",
   "execution_count": 12,
   "id": "1942b2c7",
   "metadata": {},
   "outputs": [
    {
     "data": {
      "text/plain": [
       "11.31"
      ]
     },
     "execution_count": 12,
     "metadata": {},
     "output_type": "execute_result"
    }
   ],
   "source": [
    "#find the readmission rate\n",
    "read_rate = round(read_count/ad_count *100,2)\n",
    "read_rate"
   ]
  },
  {
   "cell_type": "code",
   "execution_count": 15,
   "id": "2460b693",
   "metadata": {},
   "outputs": [
    {
     "data": {
      "text/plain": [
       "9.47"
      ]
     },
     "execution_count": 15,
     "metadata": {},
     "output_type": "execute_result"
    }
   ],
   "source": [
    "#find the unique readmission rate \n",
    "read_rate_unique = round(one_top['Patient ID'].nunique() / one['Patient ID'].nunique()*100,2)\n",
    "read_rate_unique"
   ]
  },
  {
   "cell_type": "markdown",
   "id": "04d20e8a",
   "metadata": {},
   "source": [
    "# MVP 2"
   ]
  },
  {
   "cell_type": "markdown",
   "id": "e5eb1511",
   "metadata": {},
   "source": [
    "What percent of patients have a PCP visit within a week of discharge?"
   ]
  },
  {
   "cell_type": "code",
   "execution_count": 13,
   "id": "36bc377d",
   "metadata": {},
   "outputs": [
    {
     "data": {
      "text/html": [
       "<div>\n",
       "<style scoped>\n",
       "    .dataframe tbody tr th:only-of-type {\n",
       "        vertical-align: middle;\n",
       "    }\n",
       "\n",
       "    .dataframe tbody tr th {\n",
       "        vertical-align: top;\n",
       "    }\n",
       "\n",
       "    .dataframe thead th {\n",
       "        text-align: right;\n",
       "    }\n",
       "</style>\n",
       "<table border=\"1\" class=\"dataframe\">\n",
       "  <thead>\n",
       "    <tr style=\"text-align: right;\">\n",
       "      <th></th>\n",
       "      <th>Patient ID</th>\n",
       "      <th>Encounter End Date</th>\n",
       "      <th>Encounter Date</th>\n",
       "      <th>Days Since Last Visit</th>\n",
       "    </tr>\n",
       "  </thead>\n",
       "  <tbody>\n",
       "    <tr>\n",
       "      <th>17</th>\n",
       "      <td>DS1|10043</td>\n",
       "      <td>2014-01-12</td>\n",
       "      <td>2014-01-12</td>\n",
       "      <td>0 days</td>\n",
       "    </tr>\n",
       "    <tr>\n",
       "      <th>28</th>\n",
       "      <td>DS1|10073</td>\n",
       "      <td>2012-06-21</td>\n",
       "      <td>2012-06-27</td>\n",
       "      <td>6 days</td>\n",
       "    </tr>\n",
       "    <tr>\n",
       "      <th>50</th>\n",
       "      <td>DS1|10101</td>\n",
       "      <td>2012-12-09</td>\n",
       "      <td>2012-12-12</td>\n",
       "      <td>3 days</td>\n",
       "    </tr>\n",
       "    <tr>\n",
       "      <th>231</th>\n",
       "      <td>DS1|10303</td>\n",
       "      <td>2012-06-24</td>\n",
       "      <td>2012-06-30</td>\n",
       "      <td>6 days</td>\n",
       "    </tr>\n",
       "    <tr>\n",
       "      <th>238</th>\n",
       "      <td>DS1|10303</td>\n",
       "      <td>2012-06-24</td>\n",
       "      <td>2012-06-28</td>\n",
       "      <td>4 days</td>\n",
       "    </tr>\n",
       "    <tr>\n",
       "      <th>...</th>\n",
       "      <td>...</td>\n",
       "      <td>...</td>\n",
       "      <td>...</td>\n",
       "      <td>...</td>\n",
       "    </tr>\n",
       "    <tr>\n",
       "      <th>44051</th>\n",
       "      <td>DS1|9945</td>\n",
       "      <td>2013-02-11</td>\n",
       "      <td>2013-02-14</td>\n",
       "      <td>3 days</td>\n",
       "    </tr>\n",
       "    <tr>\n",
       "      <th>44067</th>\n",
       "      <td>DS1|9978</td>\n",
       "      <td>2015-09-05</td>\n",
       "      <td>2015-09-11</td>\n",
       "      <td>6 days</td>\n",
       "    </tr>\n",
       "    <tr>\n",
       "      <th>44071</th>\n",
       "      <td>DS1|9979</td>\n",
       "      <td>2015-02-11</td>\n",
       "      <td>2015-02-15</td>\n",
       "      <td>4 days</td>\n",
       "    </tr>\n",
       "    <tr>\n",
       "      <th>44074</th>\n",
       "      <td>DS1|9981</td>\n",
       "      <td>2014-08-10</td>\n",
       "      <td>2014-08-11</td>\n",
       "      <td>1 days</td>\n",
       "    </tr>\n",
       "    <tr>\n",
       "      <th>44077</th>\n",
       "      <td>DS1|9981</td>\n",
       "      <td>2014-08-10</td>\n",
       "      <td>2014-08-12</td>\n",
       "      <td>2 days</td>\n",
       "    </tr>\n",
       "  </tbody>\n",
       "</table>\n",
       "<p>2375 rows × 4 columns</p>\n",
       "</div>"
      ],
      "text/plain": [
       "      Patient ID Encounter End Date Encounter Date Days Since Last Visit\n",
       "17     DS1|10043         2014-01-12     2014-01-12                0 days\n",
       "28     DS1|10073         2012-06-21     2012-06-27                6 days\n",
       "50     DS1|10101         2012-12-09     2012-12-12                3 days\n",
       "231    DS1|10303         2012-06-24     2012-06-30                6 days\n",
       "238    DS1|10303         2012-06-24     2012-06-28                4 days\n",
       "...          ...                ...            ...                   ...\n",
       "44051   DS1|9945         2013-02-11     2013-02-14                3 days\n",
       "44067   DS1|9978         2015-09-05     2015-09-11                6 days\n",
       "44071   DS1|9979         2015-02-11     2015-02-15                4 days\n",
       "44074   DS1|9981         2014-08-10     2014-08-11                1 days\n",
       "44077   DS1|9981         2014-08-10     2014-08-12                2 days\n",
       "\n",
       "[2375 rows x 4 columns]"
      ]
     },
     "execution_count": 13,
     "metadata": {},
     "output_type": "execute_result"
    }
   ],
   "source": [
    "#make df and merge\n",
    "ad_cut = adm[['Patient ID','Encounter End Date']]\n",
    "pcp_cut = pcp[['Patient ID','Encounter Date']]\n",
    "two = ad_cut.merge(pcp_cut, left_on ='Patient ID', right_on = 'Patient ID',how='left', indicator = False)\n",
    "#sub encounter date from end dates\n",
    "two['Days Since Last Visit'] = two['Encounter Date'] - two['Encounter End Date']\n",
    "two_top = two[two['Days Since Last Visit'] <= '7 days']\n",
    "two_top = two_top[two_top['Days Since Last Visit'] >= '0 days']\n",
    "#count\n",
    "count_two_top = len(two_top)\n",
    "two_top"
   ]
  },
  {
   "cell_type": "code",
   "execution_count": null,
   "id": "1477f63e",
   "metadata": {},
   "outputs": [],
   "source": []
  },
  {
   "cell_type": "code",
   "execution_count": 14,
   "id": "6e2e0bdf",
   "metadata": {},
   "outputs": [
    {
     "data": {
      "text/plain": [
       "38.23"
      ]
     },
     "execution_count": 14,
     "metadata": {},
     "output_type": "execute_result"
    }
   ],
   "source": [
    "#find the pcp visit within 7 days rate\n",
    "pcp_visit_rate = round(count_two_top/ad_count *100,2)\n",
    "pcp_visit_rate"
   ]
  },
  {
   "cell_type": "markdown",
   "id": "07ad232b",
   "metadata": {},
   "source": [
    "# Question 3"
   ]
  },
  {
   "cell_type": "markdown",
   "id": "669240d1",
   "metadata": {},
   "source": [
    "Do either vary by individual or group PCP's?"
   ]
  },
  {
   "cell_type": "code",
   "execution_count": null,
   "id": "b60f5340",
   "metadata": {},
   "outputs": [],
   "source": []
  }
 ],
 "metadata": {
  "kernelspec": {
   "display_name": "Python 3",
   "language": "python",
   "name": "python3"
  },
  "language_info": {
   "codemirror_mode": {
    "name": "ipython",
    "version": 3
   },
   "file_extension": ".py",
   "mimetype": "text/x-python",
   "name": "python",
   "nbconvert_exporter": "python",
   "pygments_lexer": "ipython3",
   "version": "3.8.8"
  }
 },
 "nbformat": 4,
 "nbformat_minor": 5
}
